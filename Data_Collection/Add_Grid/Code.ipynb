{
 "cells": [
  {
   "cell_type": "code",
   "execution_count": null,
   "id": "25b0c923-5b14-490d-9e2c-6007e2239947",
   "metadata": {},
   "outputs": [],
   "source": [
    "#Code for Cutting spaces around book"
   ]
  },
  {
   "cell_type": "code",
   "execution_count": 1,
   "id": "6e37d4ed-cdeb-4453-8fd7-0a776f1d53e7",
   "metadata": {},
   "outputs": [
    {
     "data": {
      "text/plain": [
       "-1"
      ]
     },
     "execution_count": 1,
     "metadata": {},
     "output_type": "execute_result"
    }
   ],
   "source": [
    "#Code for Horizontally cutting image\n",
    "import cv2\n",
    "import numpy as np\n",
    "from scipy.signal import find_peaks\n",
    "\n",
    "def kth_smallest_el(lst, k):\n",
    "    lst.sort()\n",
    "    return lst[k-1]\n",
    "\n",
    "def kth_largest_el(lst, k):\n",
    "    lst.sort()\n",
    "    return lst[-k]\n",
    "\n",
    "# read image+crop image\n",
    "path=r'C:/Users/Keitaro Ninomiya/Box/Research Notes (keitaro2@illinois.edu)/Tokyo_Jobs/Raw_Data/Metropolitan_DA/1937/img/'\n",
    "img = cv2.imread(path+\"Page150.jpg\")\n",
    "crop_img=img[80:500, 380:860] #### Automate this part ####\n",
    "hh, ww = crop_img.shape[:2]\n",
    "# convert to grayscale\n",
    "gray = cv2.cvtColor(crop_img,cv2.COLOR_BGR2GRAY)\n",
    "# threshold gray image\n",
    "thresh = cv2.threshold(gray, 200, 255, cv2.THRESH_BINARY)[1]\n",
    "\n",
    "# count number of non-zero pixels in each column and row. \n",
    "countCol = np.count_nonzero(thresh, axis=0)\n",
    "countRow = np.count_nonzero(thresh, axis=1)\n",
    "\n",
    "### This finds the height of the lowest valley\n",
    "peaks, _ = find_peaks(-countCol, distance=13)\n",
    "Thres=min(countCol[peaks])\n",
    "\n",
    "### threshold count at Thres\n",
    "count_thresh = countCol.copy()\n",
    "count_thresh[countCol==Thres] = 255\n",
    "count_thresh[countCol>Thres] = 0\n",
    "count_thresh = count_thresh.astype(np.uint8)\n",
    "\n",
    "### get contours\n",
    "contours = cv2.findContours(count_thresh, cv2.RETR_EXTERNAL, cv2.CHAIN_APPROX_SIMPLE)\n",
    "contours = contours[0] if len(contours) == 2 else contours[1]\n",
    "\n",
    "### loop over contours and get bounding boxes and ycenter and draw horizontal line at ycenter\n",
    "result = crop_img.copy()\n",
    "x,y,w,h = cv2.boundingRect(contours[0])\n",
    "cv2.line(result, (y,0), (y,hh), (255, 0, 0), 1)\n",
    "\n",
    "LeftImage=result[0:hh,0:y]\n",
    "RighImage=result[0:hh,y:ww]\n",
    "cv2.imshow(\"LeftImage\", LeftImage)\n",
    "cv2.imshow(\"RightImage\", RighImage)\n",
    "cv2.waitKey(0)\n"
   ]
  },
  {
   "cell_type": "code",
   "execution_count": 2,
   "id": "35697dcf-a564-43d8-af16-68869d88728c",
   "metadata": {
    "tags": []
   },
   "outputs": [
    {
     "data": {
      "text/plain": [
       "-1"
      ]
     },
     "execution_count": 2,
     "metadata": {},
     "output_type": "execute_result"
    }
   ],
   "source": [
    "#Code for Cutting image vertically for multi-row image\n",
    "import cv2\n",
    "import numpy as np\n",
    "from scipy.signal import find_peaks\n",
    "\n",
    "def kth_smallest_el(lst, k):\n",
    "    lst.sort()\n",
    "    return lst[k-1]\n",
    "\n",
    "# read image+crop image\n",
    "crop_img=RighImage\n",
    "hh, ww = crop_img.shape[:2]\n",
    "# convert to grayscale\n",
    "gray = cv2.cvtColor(crop_img,cv2.COLOR_BGR2GRAY)\n",
    "# threshold gray image\n",
    "thresh = cv2.threshold(gray, 200, 255, cv2.THRESH_BINARY)[1]\n",
    "\n",
    "# count number of non-zero pixels in each column and row. \n",
    "countRow = np.count_nonzero(thresh, axis=1)\n",
    "\n",
    "### This finds the height of 4th lowest valley: Choose the valley closest to the middle line.\n",
    "peaks, _ = find_peaks(-countRow, distance=30)\n",
    "\n",
    "### threshold count at Thres\n",
    "count_thresh = countRow.copy()\n",
    "count_thresh[peaks] = 255\n",
    "count_thresh[count_thresh!=255] = 0\n",
    "count_thresh = count_thresh.astype(np.uint8)\n",
    "\n",
    "### get contours\n",
    "contours = cv2.findContours(count_thresh, cv2.RETR_EXTERNAL, cv2.CHAIN_APPROX_SIMPLE)\n",
    "contours = contours[0] if len(contours) == 2 else contours[1]\n",
    "\n",
    "### loop over contours and get bounding boxes and ycenter and draw horizontal line at ycenter\n",
    "result = crop_img.copy()\n",
    "for cntr in contours: #Possibly replace this by nearest contour\n",
    "    x,y,w,h = cv2.boundingRect(cntr)\n",
    "    ycenter = y\n",
    "    if abs(ycenter-hh//2)<20:\n",
    "        CenterLine = y+20\n",
    "        cv2.line(result, (0,CenterLine), (ww,CenterLine), (255, 0, 0), 1)\n",
    "    else:\n",
    "        continue\n",
    "\n",
    "TopImage=result[0:CenterLine,0:ww]\n",
    "BtmImage=result[CenterLine:hh,0:ww]\n",
    "\n",
    "# display results\n",
    "cv2.imshow(\"TopImage\", TopImage)\n",
    "cv2.imshow(\"BtmImage\", BtmImage)\n",
    "cv2.waitKey(0)\n"
   ]
  },
  {
   "cell_type": "code",
   "execution_count": 3,
   "id": "d3d773c7-d0df-4866-b490-9cb5f25c2ed6",
   "metadata": {
    "tags": []
   },
   "outputs": [
    {
     "name": "stdout",
     "output_type": "stream",
     "text": [
      "Initial average distance is46.5\n",
      "Updating tilts, New distance is43.75\n",
      "Updating tilts, New distance is39.2\n",
      "Finished: Final distance is39.2. Next was44.25\n"
     ]
    },
    {
     "data": {
      "text/plain": [
       "-1"
      ]
     },
     "execution_count": 3,
     "metadata": {},
     "output_type": "execute_result"
    }
   ],
   "source": [
    "#Code for adjusting angle: Right page\n",
    "import imutils\n",
    "import matplotlib.pyplot as plt\n",
    "\n",
    "def Rotate_Right(RighImage):    \n",
    "    #### Bench Marking ####\n",
    "    gray = cv2.cvtColor(RighImage,cv2.COLOR_BGR2GRAY)\n",
    "    # threshold gray image\n",
    "    thresh = cv2.threshold(gray, 200, 255, cv2.THRESH_BINARY)[1]\n",
    "    ## count number of non-zero pixels in each column and row. \n",
    "    countCol = np.count_nonzero(thresh, axis=0)\n",
    "    ## This finds the locations of valleys\n",
    "    peaks, _ = find_peaks(countCol, distance=30)\n",
    "    \n",
    "    res = res = np.mean(np.diff(peaks))\n",
    "    print(\"Initial average distance is\"+str(res))\n",
    "\n",
    "    #Rotate image\n",
    "    for i in range(1,10):\n",
    "        Rotimage = imutils.rotate(RighImage, angle=0.5*i)\n",
    "        \n",
    "        gray = cv2.cvtColor(Rotimage,cv2.COLOR_BGR2GRAY)\n",
    "        thresh = cv2.threshold(gray, 200, 255, cv2.THRESH_BINARY)[1]\n",
    "        countCol = np.count_nonzero(thresh, axis=0)\n",
    "        peaks, _ = find_peaks(countCol, distance=30)\n",
    "        new_res = np.mean(np.diff(peaks))\n",
    "        \n",
    "        if res>new_res:\n",
    "            print(\"Updating tilts, New distance is\"+str(new_res))\n",
    "            res=new_res\n",
    "            continue\n",
    "        else:\n",
    "            print(\"Finished: Final distance is\"+str(res)+\". Next was\"+str(new_res))\n",
    "            return Rotimage\n",
    "            break\n",
    "\n",
    "img=Rotate_Right(TopImage)\n",
    "cv2.imshow(\"image\",img)\n",
    "cv2.waitKey(0)"
   ]
  },
  {
   "cell_type": "code",
   "execution_count": null,
   "id": "6b59a7ac-c4da-42bd-b934-706dae926582",
   "metadata": {
    "collapsed": true,
    "jupyter": {
     "outputs_hidden": true,
     "source_hidden": true
    },
    "tags": []
   },
   "outputs": [
    {
     "data": {
      "image/png": "[encoded data removed]",
      "text/plain": [
       "<Figure size 640x480 with 1 Axes>"
      ]
     },
     "metadata": {},
     "output_type": "display_data"
    },
    {
     "name": "stdout",
     "output_type": "stream",
     "text": [
      "-381\n"
     ]
    }
   ],
   "source": [
    "plt.plot(-countCol)\n",
    "plt.plot(peaks, -countCol[peaks], \"x\")\n",
    "plt.show()\n",
    "print(Thres)"
   ]
  },
  {
   "cell_type": "code",
   "execution_count": 10,
   "id": "4f7f95b2-69fc-4c63-8540-6ac40c0da696",
   "metadata": {
    "tags": []
   },
   "outputs": [
    {
     "data": {
      "text/plain": [
       "True"
      ]
     },
     "execution_count": 10,
     "metadata": {},
     "output_type": "execute_result"
    }
   ],
   "source": [
    "#Code for Adding Grid\n",
    "#Identify grid location\n",
    "## convert to grayscale\n",
    "gray = cv2.cvtColor(img,cv2.COLOR_BGR2GRAY)\n",
    "# threshold gray image\n",
    "thresh = cv2.threshold(gray, 200, 255, cv2.THRESH_BINARY)[1]\n",
    "\n",
    "## count number of non-zero pixels in each column and row. \n",
    "countCol = np.count_nonzero(thresh, axis=0)\n",
    "countRow = np.count_nonzero(thresh, axis=1)\n",
    "\n",
    "## Column lines\n",
    "### This finds the height of the smallest peak\n",
    "peaks, _ = find_peaks(countCol, distance=15)\n",
    "Thres=min(countCol[peaks])\n",
    "### threshold count at Thres\n",
    "count_thresh = countCol.copy()\n",
    "count_thresh[peaks] = 255\n",
    "count_thresh[count_thresh!=255] = 0\n",
    "count_thresh = count_thresh.astype(np.uint8)\n",
    "\n",
    "### get contours\n",
    "contours = cv2.findContours(count_thresh, cv2.RETR_EXTERNAL, cv2.CHAIN_APPROX_SIMPLE)\n",
    "contours = contours[0] if len(contours) == 2 else contours[1]\n",
    "\n",
    "### loop over contours and get bounding boxes and ycenter and draw horizontal line at ycenter\n",
    "result = img.copy()\n",
    "for cntr in contours:\n",
    "    x,y,w,h = cv2.boundingRect(cntr)\n",
    "    ycenter = y+h//2\n",
    "    cv2.line(result, (ycenter,0), (ycenter,hh), (255, 0, 0), 1)\n",
    "\n",
    "### Row lines ###\n",
    "peaks, _ = find_peaks(-countRow, distance=50)\n",
    "Thres=min(countRow[peaks])\n",
    "### threshold count at Thres\n",
    "count_thresh = countRow.copy()\n",
    "count_thresh[countRow==Thres] = 255\n",
    "count_thresh[countRow<Thres] = 0\n",
    "count_thresh = count_thresh.astype(np.uint8)\n",
    "\n",
    "### get contours\n",
    "contours = cv2.findContours(count_thresh, cv2.RETR_EXTERNAL, cv2.CHAIN_APPROX_SIMPLE)\n",
    "contours = contours[0] if len(contours) == 2 else contours[1]\n",
    "\n",
    "### loop over contours and get bounding boxes and ycenter and draw horizontal line at ycenter\n",
    "for cntr in contours:\n",
    "    x,y,w,h = cv2.boundingRect(cntr)\n",
    "    ycenter = y+h//2\n",
    "    cv2.line(result, (0,ycenter), (ww,ycenter), (255, 0, 0), 1)\n",
    "\n",
    "# display results\n",
    "cv2.imshow(\"RESULT\", result)\n",
    "cv2.waitKey(0)\n",
    "\n",
    "cv2.imwrite(r'C:/Users/Keitaro Ninomiya/Desktop/TopImage_example.png', result)"
   ]
  },
  {
   "cell_type": "code",
   "execution_count": null,
   "id": "6cdd531b-433b-4f93-89ec-77d7e980a79b",
   "metadata": {},
   "outputs": [
    {
     "data": {
      "text/plain": [
       "True"
      ]
     },
     "execution_count": 6,
     "metadata": {},
     "output_type": "execute_result"
    }
   ],
   "source": [
    "#Code for Adding Grid\n",
    "#Identify grid location\n",
    "## convert to grayscale\n",
    "gray = cv2.cvtColor(BtmImage,cv2.COLOR_BGR2GRAY)\n",
    "# threshold gray image\n",
    "thresh = cv2.threshold(gray, 200, 255, cv2.THRESH_BINARY)[1]\n",
    "\n",
    "## count number of non-zero pixels in each column and row. \n",
    "countCol = np.count_nonzero(thresh, axis=0)\n",
    "countRow = np.count_nonzero(thresh, axis=1)\n",
    "\n",
    "### Column lines ###\n",
    "### This finds the height of the smallest peak\n",
    "peaks, _ = find_peaks(countCol, distance=13)\n",
    "Thres=min(countCol[peaks])\n",
    "### threshold count at Thres\n",
    "count_thresh = countCol.copy()\n",
    "count_thresh[countCol<Thres] = 255\n",
    "count_thresh[countCol<Thres] = 0\n",
    "count_thresh = count_thresh.astype(np.uint8)\n",
    "\n",
    "### get contours\n",
    "contours = cv2.findContours(count_thresh, cv2.RETR_EXTERNAL, cv2.CHAIN_APPROX_SIMPLE)\n",
    "contours = contours[0] if len(contours) == 2 else contours[1]\n",
    "\n",
    "### loop over contours and get bounding boxes and ycenter and draw horizontal line at ycenter\n",
    "result = BtmImage.copy()\n",
    "for cntr in contours:\n",
    "    x,y,w,h = cv2.boundingRect(cntr)\n",
    "    ycenter = y+h//2\n",
    "    cv2.line(result, (ycenter,0), (ycenter,hh), (255, 0, 0), 1)\n",
    "\n",
    "### Row lines ###\n",
    "peaks, _ = find_peaks(-countRow, distance=50)\n",
    "Thres=min(countRow[peaks])\n",
    "### threshold count at Thres\n",
    "count_thresh = countRow.copy()\n",
    "count_thresh[countRow==Thres] = 255\n",
    "count_thresh[countRow<Thres] = 0\n",
    "count_thresh = count_thresh.astype(np.uint8)\n",
    "\n",
    "### get contours\n",
    "contours = cv2.findContours(count_thresh, cv2.RETR_EXTERNAL, cv2.CHAIN_APPROX_SIMPLE)\n",
    "contours = contours[0] if len(contours) == 2 else contours[1]\n",
    "\n",
    "### loop over contours and get bounding boxes and ycenter and draw horizontal line at ycenter\n",
    "for cntr in contours:\n",
    "    x,y,w,h = cv2.boundingRect(cntr)\n",
    "    ycenter = y+h//2\n",
    "    cv2.line(result, (0,ycenter-20), (ww,ycenter-20), (255, 0, 0), 1)\n",
    "\n",
    "# display results\n",
    "cv2.imshow(\"THRESHOLD\", thresh)\n",
    "cv2.imshow(\"RESULT\", result)\n",
    "cv2.waitKey(0)\n",
    "\n",
    "cv2.imwrite(r'C:/Users/Keitaro Ninomiya/Desktop/BtmImage_example.png', result)"
   ]
  },
  {
   "cell_type": "code",
   "execution_count": 34,
   "id": "c7f5d312-a96d-4a97-b4b7-1b6cc694fa1d",
   "metadata": {},
   "outputs": [],
   "source": [
    "class Crop:\n",
    "    def __init__(self,im):\n",
    "        self.im=im\n",
    "\n",
    "    def Crop(self):\n",
    "        width,height=self.im.size\n",
    "        left=0\n",
    "        top=0\n",
    "        right=width\n",
    "        bottom=4*height/5\n",
    "        im=self.im.crop((left,top,right,bottom))\n",
    "        return im\n"
   ]
  },
  {
   "cell_type": "code",
   "execution_count": 8,
   "id": "2cedfab4-e12c-456f-865c-af282a3b3cdc",
   "metadata": {},
   "outputs": [
    {
     "data": {
      "text/plain": [
       "-1"
      ]
     },
     "execution_count": 8,
     "metadata": {},
     "output_type": "execute_result"
    }
   ],
   "source": []
  }
 ],
 "metadata": {
  "kernelspec": {
   "display_name": "Python 3 (ipykernel)",
   "language": "python",
   "name": "python3"
  },
  "language_info": {
   "codemirror_mode": {
    "name": "ipython",
    "version": 3
   },
   "file_extension": ".py",
   "mimetype": "text/x-python",
   "name": "python",
   "nbconvert_exporter": "python",
   "pygments_lexer": "ipython3",
   "version": "3.9.13"
  }
 },
 "nbformat": 4,
 "nbformat_minor": 5
}
