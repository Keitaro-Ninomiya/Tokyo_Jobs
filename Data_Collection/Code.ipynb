{
 "cells": [
  {
   "cell_type": "code",
   "execution_count": 2,
   "id": "c888d30c-a5b4-4c02-8f73-f3004ec8fcd5",
   "metadata": {},
   "outputs": [],
   "source": [
    "#Step 1: Download image and crop to rows\n",
    "#The following code crops out the first row.\n",
    "#Future code will have a function for each row.\n",
    "from PIL import Image\n",
    "im = Image.open(r\"C:/Users/Keitaro Ninomiya/Box/Research Notes (keitaro2@illinois.edu)/Tokyo_Jobs/Raw_Data/digidepo_1454729_100-1101024_1.jpg\")\n",
    "\n",
    "width,height=im.size\n",
    "left=width/2\n",
    "top=0\n",
    "right=width\n",
    "bottom=1.15*height/3\n",
    "im1=im.crop((left,top,right,bottom))\n",
    "im1 = im1.save(\"Test.jpg\")"
   ]
  },
  {
   "cell_type": "code",
   "execution_count": 36,
   "id": "3ac53ee9-d54a-4f6b-afd0-e301fdb9d3d4",
   "metadata": {},
   "outputs": [],
   "source": [
    "#Step 2: Detecting departments within an image\n",
    "import cv2\n",
    "import matplotlib.pyplot as plt\n",
    "import numpy as np\n",
    "\n",
    "im=cv2.imread(r\"C:/Users/Keitaro Ninomiya/Box/Research Notes (keitaro2@illinois.edu)/Tokyo_Jobs/Data_Collection/Test.jpg\",cv2.IMREAD_COLOR)\n",
    "\n",
    "#Detecting circles: This step is heavily refering to the following website https://www.geeksforgeeks.org/circle-detection-using-opencv-python/\n",
    "# Convert to grayscale.\n",
    "gray = cv2.cvtColor(im, cv2.COLOR_BGR2GRAY)\n",
    "# Blur using 3 * 3 kernel.\n",
    "gray_blurred = cv2.blur(gray, (3, 3))  \n",
    "# Apply Hough transform on the blurred image.\n",
    "detected_circles = cv2.HoughCircles(gray_blurred, \n",
    "                   cv2.HOUGH_GRADIENT, 1, 100, param1 = 50,\n",
    "               param2 = 15, minRadius = 5, maxRadius = 10)\n",
    "#The Detection can be eye-checked by projecting an annotated image\n",
    "#Skip this step for automation.\n",
    "if detected_circles is not None:\n",
    "    # Convert the circle parameters a, b and r to integers.\n",
    "    detected_circles = np.uint16(np.around(detected_circles))\n",
    "  \n",
    "    for pt in detected_circles[0, :]:\n",
    "        a, b, r = pt[0], pt[1], pt[2]\n",
    "  \n",
    "        # Draw the circumference of the circle.\n",
    "        cv2.circle(im, (a, b), r, (0, 255, 0), 2)\n",
    "  \n",
    "        # Draw a small circle (of radius 1) to show the center.\n",
    "        cv2.circle(im, (a, b), 1, (0, 0, 255), 3)\n",
    "        \n",
    "        cv2.imshow(\"Detected Circle\", im)\n",
    "        cv2.waitKey(0)"
   ]
  },
  {
   "cell_type": "code",
   "execution_count": 38,
   "id": "eb3927fe-22f1-4004-a345-5da92663e8f4",
   "metadata": {},
   "outputs": [],
   "source": [
    "#Step 3: Cutting image into departments\n",
    "im = Image.open(r\"C:/Users/Keitaro Ninomiya/Box/Research Notes (keitaro2@illinois.edu)/Tokyo_Jobs/Data_Collection/Test.jpg\")\n",
    "height=im.size[1]\n",
    "left=detected_circles[0][1][0]+20\n",
    "top=0\n",
    "right=detected_circles[0][0][0]+20\n",
    "bottom=height\n",
    "im1 = im.crop((left,top,right,bottom))\n",
    "im1 = im1.save(\"Test_dept.jpg\")"
   ]
  }
 ],
 "metadata": {
  "kernelspec": {
   "display_name": "Python 3",
   "language": "python",
   "name": "python3"
  },
  "language_info": {
   "codemirror_mode": {
    "name": "ipython",
    "version": 3
   },
   "file_extension": ".py",
   "mimetype": "text/x-python",
   "name": "python",
   "nbconvert_exporter": "python",
   "pygments_lexer": "ipython3",
   "version": "3.9.12"
  }
 },
 "nbformat": 4,
 "nbformat_minor": 5
}
