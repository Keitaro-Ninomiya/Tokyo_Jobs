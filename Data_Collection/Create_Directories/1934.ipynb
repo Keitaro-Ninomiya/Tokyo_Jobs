{
 "cells": [
  {
   "cell_type": "markdown",
   "id": "99400418",
   "metadata": {},
   "source": [
    "Purpose of code\n",
    "\n",
    "Create directories for each office\n"
   ]
  },
  {
   "cell_type": "code",
   "execution_count": 1,
   "id": "9b53d710",
   "metadata": {},
   "outputs": [],
   "source": [
    "import json\n",
    "import os\n",
    "import pandas as pd\n",
    "import numpy as np\n",
    "import cv2"
   ]
  },
  {
   "cell_type": "code",
   "execution_count": 2,
   "id": "0171d387",
   "metadata": {},
   "outputs": [],
   "source": [
    "Year=1934\n",
    "Showa=10"
   ]
  },
  {
   "cell_type": "code",
   "execution_count": 3,
   "id": "8feaf4a2",
   "metadata": {},
   "outputs": [],
   "source": [
    "file_path='C:\\\\Users\\\\Keitaro Ninomiya\\\\Box\\\\Research Notes (keitaro2@illinois.edu)\\\\Tokyo_Jobs\\\\Processed_Data\\\\'+str(Year)+'\\\\DataFrame.json'\n",
    "with open(file_path, encoding=\"utf-8\") as f:\n",
    "    dta = json.loads(f.read())\n",
    "\n",
    "df = pd.read_csv(r'C:/Users/Keitaro Ninomiya/Box/Research Notes (keitaro2@illinois.edu)/Tokyo_Jobs/Processed_Data/Index/S'+str(Showa)+'.csv')\n",
    "df=df.drop(df.columns[0], axis=1)\n",
    "\n",
    "file_path='C:\\\\Users\\\\Keitaro Ninomiya\\\\Box\\\\Research Notes (keitaro2@illinois.edu)\\\\Tokyo_Jobs\\\\Raw_Data\\\\Office_Level\\\\'+str(Year)\n",
    "os.chdir(file_path)\n",
    "\n",
    "DeptList=list(dta[str(Year)].keys())"
   ]
  },
  {
   "cell_type": "code",
   "execution_count": 4,
   "id": "a805806c",
   "metadata": {},
   "outputs": [
    {
     "ename": "FileExistsError",
     "evalue": "[WinError 183] Cannot create a file when that file already exists: 'C:\\\\Users\\\\Keitaro Ninomiya\\\\Box\\\\Research Notes (keitaro2@illinois.edu)\\\\Tokyo_Jobs\\\\Raw_Data\\\\Office_Level\\\\1934\\\\中央卸売市場'",
     "output_type": "error",
     "traceback": [
      "\u001b[1;31m---------------------------------------------------------------------------\u001b[0m",
      "\u001b[1;31mFileExistsError\u001b[0m                           Traceback (most recent call last)",
      "\u001b[1;32mC:\\Temp\\ipykernel_3876\\3954765154.py\u001b[0m in \u001b[0;36m<module>\u001b[1;34m\u001b[0m\n\u001b[0;32m      3\u001b[0m     \u001b[0mDept\u001b[0m\u001b[1;33m=\u001b[0m\u001b[0mDeptList\u001b[0m\u001b[1;33m[\u001b[0m\u001b[0mn\u001b[0m\u001b[1;33m]\u001b[0m\u001b[1;33m\u001b[0m\u001b[1;33m\u001b[0m\u001b[0m\n\u001b[0;32m      4\u001b[0m     \u001b[0mpath\u001b[0m\u001b[1;33m=\u001b[0m\u001b[0mos\u001b[0m\u001b[1;33m.\u001b[0m\u001b[0mpath\u001b[0m\u001b[1;33m.\u001b[0m\u001b[0mjoin\u001b[0m\u001b[1;33m(\u001b[0m\u001b[0mfile_path\u001b[0m\u001b[1;33m+\u001b[0m\u001b[1;34m'\\\\'\u001b[0m\u001b[1;33m,\u001b[0m\u001b[0mDept\u001b[0m\u001b[1;33m)\u001b[0m\u001b[1;33m\u001b[0m\u001b[1;33m\u001b[0m\u001b[0m\n\u001b[1;32m----> 5\u001b[1;33m     \u001b[0mos\u001b[0m\u001b[1;33m.\u001b[0m\u001b[0mmkdir\u001b[0m\u001b[1;33m(\u001b[0m\u001b[0mpath\u001b[0m\u001b[1;33m)\u001b[0m\u001b[1;33m\u001b[0m\u001b[1;33m\u001b[0m\u001b[0m\n\u001b[0m",
      "\u001b[1;31mFileExistsError\u001b[0m: [WinError 183] Cannot create a file when that file already exists: 'C:\\\\Users\\\\Keitaro Ninomiya\\\\Box\\\\Research Notes (keitaro2@illinois.edu)\\\\Tokyo_Jobs\\\\Raw_Data\\\\Office_Level\\\\1934\\\\中央卸売市場'"
     ]
    }
   ],
   "source": [
    "#Creates department level directories\n",
    "for n in range(0,len(DeptList)):    \n",
    "    Dept=DeptList[n]\n",
    "    path=os.path.join(file_path+'\\\\',Dept)\n",
    "    os.mkdir(path)"
   ]
  },
  {
   "cell_type": "code",
   "execution_count": 21,
   "id": "140eb6ea",
   "metadata": {},
   "outputs": [],
   "source": [
    "#Creates office level directories\n",
    "for n in range(1,len(df)):    \n",
    "    Row  = df.iloc[n]\n",
    "    Office=Row['Office']\n",
    "    Dept=Row['Dept']\n",
    "    path=os.path.join(file_path+'\\\\'+Dept+'\\\\',Office)\n",
    "    os.mkdir(path)"
   ]
  }
 ],
 "metadata": {
  "kernelspec": {
   "display_name": "Python 3 (ipykernel)",
   "language": "python",
   "name": "python3"
  },
  "language_info": {
   "codemirror_mode": {
    "name": "ipython",
    "version": 3
   },
   "file_extension": ".py",
   "mimetype": "text/x-python",
   "name": "python",
   "nbconvert_exporter": "python",
   "pygments_lexer": "ipython3",
   "version": "3.9.13"
  }
 },
 "nbformat": 4,
 "nbformat_minor": 5
}
