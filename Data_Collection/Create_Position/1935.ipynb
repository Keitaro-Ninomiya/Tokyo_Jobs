{
 "cells": [
  {
   "cell_type": "code",
   "execution_count": 4,
   "id": "56a18d3b-0863-441e-97cb-9a1b1ef0716b",
   "metadata": {},
   "outputs": [],
   "source": [
    "import json\n",
    "import os\n",
    "import pandas as pd\n",
    "import numpy as np\n",
    "import cv2\n",
    "\n",
    "Year=1935\n",
    "Showa=10\n",
    "\n",
    "file_path='C:\\\\Users\\\\Keitaro Ninomiya\\\\Box\\\\Research Notes (keitaro2@illinois.edu)\\\\Tokyo_Jobs\\\\Processed_Data\\\\'+str(Year)+'\\\\DataFrame.json'\n",
    "with open(file_path, encoding=\"utf-8\") as f:\n",
    "    dta = json.loads(f.read())"
   ]
  },
  {
   "cell_type": "code",
   "execution_count": 5,
   "id": "40addb09-ec9e-4ee0-b8ff-fab7642c1a5f",
   "metadata": {},
   "outputs": [],
   "source": [
    "df = pd.read_csv(r'C:/Users/Keitaro Ninomiya/Box/Research Notes (keitaro2@illinois.edu)/Tokyo_Jobs/Processed_Data/Index/S'+str(Showa)+'.csv')\n",
    "df=df.drop(df.columns[0], axis=1)\n",
    "\n",
    "file_path='C:\\\\Users\\\\Keitaro Ninomiya\\\\Box\\\\Research Notes (keitaro2@illinois.edu)\\\\Tokyo_Jobs\\\\Raw_Data\\\\Office_Level\\\\'+str(Year)+'\\\\'\n",
    "os.chdir(file_path)\n"
   ]
  },
  {
   "cell_type": "code",
   "execution_count": 6,
   "id": "2cedfc26-8654-4c69-9450-e6b1a12e4026",
   "metadata": {},
   "outputs": [
    {
     "name": "stdout",
     "output_type": "stream",
     "text": [
      "文書課 Admin\n"
     ]
    }
   ],
   "source": [
    "#Creates office level directories\n",
    "n=0\n",
    "Row  = df.iloc[n]\n",
    "Office=Row['Office']\n",
    "Dept=Row['Dept']\n",
    "print(Office,Dept)\n",
    "Info=dta[str(Year)][Dept][Office]\n",
    "\n",
    "PageList=Info['Page_Range']\n",
    "PosiList=list(Info['Position'].keys())\n",
    "PosiList\n",
    "\n",
    "for Position in PosiList:\n",
    "    path=file_path+'\\\\'+Dept+'\\\\'+Office+'\\\\'+Position\n",
    "    os.mkdir(path)\n"
   ]
  },
  {
   "cell_type": "code",
   "execution_count": 17,
   "id": "e01b1d57-3d60-4525-84f2-1c6894abb05a",
   "metadata": {},
   "outputs": [
    {
     "name": "stdout",
     "output_type": "stream",
     "text": [
      "統計課 監査局\n",
      "都市計画課 監査局\n",
      "主計課 財務局\n",
      "公債課 財務局\n",
      "収納課 財務局\n",
      "経理課 財務局\n",
      "地理課 財務局\n",
      "会計課 財務局\n",
      "庶務課 産業局\n",
      "商工課 産業局\n",
      "農魚課 産業局\n",
      "権度課 産業局\n",
      "庶務課 教育局\n",
      "学務課 教育局\n",
      "社会教育課 教育局\n",
      "体育課 教育局\n",
      "視学課 教育局\n",
      "庶務課 社会局\n",
      "保護課 社会局\n",
      "福利課 社会局\n",
      "職業課 社会局\n",
      "庶務課 保健局\n",
      "衛生課 保健局\n",
      "清掃課 保健局\n",
      "公園課 保健局\n",
      "庶務課 水道局\n",
      "会計課 水道局\n",
      "業務課 水道局\n",
      "給水課 水道局\n",
      "拡張課 水道局\n",
      "庶務課 土木局\n",
      "道路管理課 土木局\n",
      "道路建設課 土木局\n",
      "河川課 土木局\n",
      "下水課 土木局\n",
      "建築課 土木局\n",
      "人事掛 電気局\n",
      "庶務課 電気局\n",
      "労働課 電気局\n",
      "会計課 電気局\n",
      "電車課 電気局\n",
      "自動車課 電気局\n",
      "電灯課 電気局\n",
      "電力課 電気局\n",
      "工務課 電気局\n",
      "病院 電気局\n",
      "庶務課 港湾部\n",
      "技術課 港湾部\n",
      "港務所 港湾部\n",
      "監理課 中央卸売市場\n",
      "企画課 中央卸売市場\n",
      "院長室 養育院\n",
      "監護課 養育院\n",
      "医務課 養育院\n",
      "会計課 養育院\n",
      "井之頭学校 養育院\n",
      "巣鴨分院 養育院\n",
      "安房分院 養育院\n"
     ]
    },
    {
     "ename": "KeyError",
     "evalue": "'Page_Range'",
     "output_type": "error",
     "traceback": [
      "\u001b[1;31m---------------------------------------------------------------------------\u001b[0m",
      "\u001b[1;31mKeyError\u001b[0m                                  Traceback (most recent call last)",
      "\u001b[1;32mC:\\Temp\\ipykernel_23592\\2347469487.py\u001b[0m in \u001b[0;36m<module>\u001b[1;34m\u001b[0m\n\u001b[0;32m      9\u001b[0m         \u001b[1;32mcontinue\u001b[0m\u001b[1;33m\u001b[0m\u001b[1;33m\u001b[0m\u001b[0m\n\u001b[0;32m     10\u001b[0m \u001b[1;33m\u001b[0m\u001b[0m\n\u001b[1;32m---> 11\u001b[1;33m     \u001b[0mPageList\u001b[0m\u001b[1;33m=\u001b[0m\u001b[0mInfo\u001b[0m\u001b[1;33m[\u001b[0m\u001b[1;34m'Page_Range'\u001b[0m\u001b[1;33m]\u001b[0m\u001b[1;33m\u001b[0m\u001b[1;33m\u001b[0m\u001b[0m\n\u001b[0m\u001b[0;32m     12\u001b[0m     \u001b[0mPosiList\u001b[0m\u001b[1;33m=\u001b[0m\u001b[0mlist\u001b[0m\u001b[1;33m(\u001b[0m\u001b[0mInfo\u001b[0m\u001b[1;33m[\u001b[0m\u001b[1;34m'Position'\u001b[0m\u001b[1;33m]\u001b[0m\u001b[1;33m.\u001b[0m\u001b[0mkeys\u001b[0m\u001b[1;33m(\u001b[0m\u001b[1;33m)\u001b[0m\u001b[1;33m)\u001b[0m\u001b[1;33m\u001b[0m\u001b[1;33m\u001b[0m\u001b[0m\n\u001b[0;32m     13\u001b[0m     \u001b[0mPosiList\u001b[0m\u001b[1;33m\u001b[0m\u001b[1;33m\u001b[0m\u001b[0m\n",
      "\u001b[1;31mKeyError\u001b[0m: 'Page_Range'"
     ]
    }
   ],
   "source": [
    "for n in range(1,len(df)+1):\n",
    "    Row  = df.iloc[n]\n",
    "    Office=Row['Office']\n",
    "    Dept=Row['Dept']\n",
    "    Info=dta[str(Year)][Dept][Office]\n",
    "    \n",
    "    if 'NA' in list(Info.values()):\n",
    "        continue\n",
    "\n",
    "    PageList=Info['Page_Range']\n",
    "    PosiList=list(Info['Position'].keys())\n",
    "    PosiList\n",
    "\n",
    "    for Position in PosiList:\n",
    "        path=file_path+'\\\\'+Dept+'\\\\'+Office+'\\\\'+Position\n",
    "        os.mkdir(path)\n"
   ]
  },
  {
   "cell_type": "code",
   "execution_count": 12,
   "id": "fbf984ac-9751-4706-ad18-261cbf4c618a",
   "metadata": {},
   "outputs": [
    {
     "data": {
      "text/plain": [
       "True"
      ]
     },
     "execution_count": 12,
     "metadata": {},
     "output_type": "execute_result"
    }
   ],
   "source": []
  }
 ],
 "metadata": {
  "kernelspec": {
   "display_name": "Python 3 (ipykernel)",
   "language": "python",
   "name": "python3"
  },
  "language_info": {
   "codemirror_mode": {
    "name": "ipython",
    "version": 3
   },
   "file_extension": ".py",
   "mimetype": "text/x-python",
   "name": "python",
   "nbconvert_exporter": "python",
   "pygments_lexer": "ipython3",
   "version": "3.9.13"
  }
 },
 "nbformat": 4,
 "nbformat_minor": 5
}
