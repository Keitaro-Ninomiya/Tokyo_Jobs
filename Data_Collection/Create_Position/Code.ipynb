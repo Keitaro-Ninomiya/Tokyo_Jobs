{
 "cells": [
  {
   "cell_type": "code",
   "execution_count": 1,
   "id": "56a18d3b-0863-441e-97cb-9a1b1ef0716b",
   "metadata": {},
   "outputs": [],
   "source": [
    "import json\n",
    "import os\n",
    "import pandas as pd\n",
    "import numpy as np\n",
    "import cv2\n",
    "\n",
    "file_path='C:\\\\Users\\\\Keitaro Ninomiya\\\\Box\\\\Research Notes (keitaro2@illinois.edu)\\\\Tokyo_Jobs\\\\Processed_Data\\\\'+str(Year)+'\\\\DataFrame.json'\n",
    "with open(file_path, encoding=\"utf-8\") as f:\n",
    "    dta = json.loads(f.read())"
   ]
  },
  {
   "cell_type": "code",
   "execution_count": 2,
   "id": "40addb09-ec9e-4ee0-b8ff-fab7642c1a5f",
   "metadata": {},
   "outputs": [],
   "source": [
    "Year=1935\n",
    "Showa=10\n",
    "df = pd.read_csv(r'C:/Users/Keitaro Ninomiya/Box/Research Notes (keitaro2@illinois.edu)/Tokyo_Jobs/Processed_Data/Index/S'+str(Showa)+'.csv')\n",
    "df=df.drop(df.columns[0], axis=1)\n",
    "\n",
    "file_path='C:\\\\Users\\\\Keitaro Ninomiya\\\\Box\\\\Research Notes (keitaro2@illinois.edu)\\\\Tokyo_Jobs\\\\Raw_Data\\\\Office_Level\\\\'+str(Year)+'\\\\'\n",
    "os.chdir(file_path)\n"
   ]
  },
  {
   "cell_type": "code",
   "execution_count": 3,
   "id": "dda9c082-fa06-4e94-941c-bcae08deed83",
   "metadata": {},
   "outputs": [
    {
     "data": {
      "text/plain": [
       "{'1934': {'Admin': {'文書課': {'Starting_Page': 3,\n",
       "    'Office_X1': 292,\n",
       "    'Ending_Page': 5,\n",
       "    'Office_X2': 439,\n",
       "    'Page_Range': [3, 4, 5],\n",
       "    'Position': {'Manager': {'XLocation': 261,\n",
       "      'Page': 3,\n",
       "      'EndLocation': 230.0,\n",
       "      'EndPage': 3.0},\n",
       "     'Leader': {'XLocation': 230,\n",
       "      'Page': 3,\n",
       "      'EndLocation': 469.0,\n",
       "      'EndPage': 4.0},\n",
       "     'Admin': {'XLocation': 469,\n",
       "      'Page': 4,\n",
       "      'EndLocation': 302.0,\n",
       "      'EndPage': 4.0},\n",
       "     'Outsource': {'XLocation': 302,\n",
       "      'Page': 4,\n",
       "      'EndLocation': 439.0,\n",
       "      'EndPage': 5.0}}},\n",
       "   '職員課': {'Starting_Page': 2,\n",
       "    'Ending_Page': 3,\n",
       "    'Office_X2': 302,\n",
       "    'Page_Range': [2, 3]},\n",
       "   '庶務課': {'Ending_Page': 5, 'Office_X2': 160, 'Page_Range': [5]},\n",
       "   '監察課': {'Starting_Page': 5, 'Office_X1': 150}},\n",
       "  '中央卸売市場': {},\n",
       "  '保健局': {},\n",
       "  '土木局': {},\n",
       "  '教育局': {},\n",
       "  '水道局': {},\n",
       "  '港湾部（S8.11.1）': {},\n",
       "  '産業局': {},\n",
       "  '監査局': {'庶務課': {'Starting_Page': 5, 'Office_X1': 429},\n",
       "   '監察課': {'Starting_Page': 5, 'Office_X1': 150}},\n",
       "  '社会局': {},\n",
       "  '財務局': {},\n",
       "  '電気局(S8.11.6)': {},\n",
       "  '電気研究所（S8.11.18）': {}}}"
      ]
     },
     "execution_count": 3,
     "metadata": {},
     "output_type": "execute_result"
    }
   ],
   "source": [
    "dta"
   ]
  },
  {
   "cell_type": "code",
   "execution_count": 9,
   "id": "2cedfc26-8654-4c69-9450-e6b1a12e4026",
   "metadata": {},
   "outputs": [
    {
     "name": "stdout",
     "output_type": "stream",
     "text": [
      "文書課 Admin\n"
     ]
    }
   ],
   "source": [
    "#Creates office level directories\n",
    "n=2\n",
    "Row  = df.iloc[n]\n",
    "Office=Row['Office']\n",
    "Dept=Row['Dept']\n",
    "print(Office,Dept)\n",
    "Info=dta[str(Year)][Dept][Office]\n",
    "\n",
    "PageList=Info['Page_Range']\n",
    "PosiList=list(Info['Position'].keys())\n",
    "PosiList\n",
    "\n",
    "for Position in PosiList:\n",
    "    path=file_path+'\\\\'+Dept+'\\\\'+Office+'\\\\'+Position\n",
    "    os.mkdir(path)\n"
   ]
  }
 ],
 "metadata": {
  "kernelspec": {
   "display_name": "Python 3 (ipykernel)",
   "language": "python",
   "name": "python3"
  },
  "language_info": {
   "codemirror_mode": {
    "name": "ipython",
    "version": 3
   },
   "file_extension": ".py",
   "mimetype": "text/x-python",
   "name": "python",
   "nbconvert_exporter": "python",
   "pygments_lexer": "ipython3",
   "version": "3.9.13"
  }
 },
 "nbformat": 4,
 "nbformat_minor": 5
}
