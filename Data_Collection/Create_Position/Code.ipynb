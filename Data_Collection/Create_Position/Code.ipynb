{
 "cells": [
  {
   "cell_type": "code",
   "execution_count": 1,
   "id": "56a18d3b-0863-441e-97cb-9a1b1ef0716b",
   "metadata": {},
   "outputs": [],
   "source": [
    "import json\n",
    "import os\n",
    "import pandas as pd\n",
    "import numpy as np\n",
    "import cv2\n",
    "\n",
    "Year=\n",
    "Showa=\n",
    "\n",
    "file_path='C:\\\\Users\\\\Keitaro Ninomiya\\\\Box\\\\Research Notes (keitaro2@illinois.edu)\\\\Tokyo_Jobs\\\\Processed_Data\\\\'+str(Year)+'\\\\DataFrame.json'\n",
    "with open(file_path, encoding=\"utf-8\") as f:\n",
    "    dta = json.loads(f.read())"
   ]
  },
  {
   "cell_type": "code",
   "execution_count": 2,
   "id": "40addb09-ec9e-4ee0-b8ff-fab7642c1a5f",
   "metadata": {},
   "outputs": [],
   "source": [
    "df = pd.read_csv(r'C:/Users/Keitaro Ninomiya/Box/Research Notes (keitaro2@illinois.edu)/Tokyo_Jobs/Processed_Data/Index/S'+str(Showa)+'.csv')\n",
    "df=df.drop(df.columns[0], axis=1)\n",
    "\n",
    "file_path='C:\\\\Users\\\\Keitaro Ninomiya\\\\Box\\\\Research Notes (keitaro2@illinois.edu)\\\\Tokyo_Jobs\\\\Raw_Data\\\\Office_Level\\\\'+str(Year)+'\\\\'\n",
    "os.chdir(file_path)\n"
   ]
  },
  {
   "cell_type": "code",
   "execution_count": null,
   "id": "56518f7b-675d-4022-bb1a-4f4c2c604bf7",
   "metadata": {},
   "outputs": [],
   "source": [
    "#Creates office level directories\n",
    "n=0\n",
    "Row  = df.iloc[n]\n",
    "Office=Row['Office']\n",
    "Dept=Row['Dept']\n",
    "print(Office,Dept)\n",
    "Info=dta[str(Year)][Dept][Office]\n",
    "\n",
    "PageList=Info['Page_Range']\n",
    "PosiList=list(Info['Position'].keys())\n",
    "PosiList\n",
    "\n",
    "for Position in PosiList:\n",
    "    path=file_path+'\\\\'+Dept+'\\\\'+Office+'\\\\'+Position\n",
    "    os.mkdir(path)\n"
   ]
  },
  {
   "cell_type": "code",
   "execution_count": 9,
   "id": "2cedfc26-8654-4c69-9450-e6b1a12e4026",
   "metadata": {},
   "outputs": [
    {
     "name": "stdout",
     "output_type": "stream",
     "text": [
      "文書課 Admin\n"
     ]
    }
   ],
   "source": [
    "for n in range(1,len(df)+1):\n",
    "    Row  = df.iloc[n]\n",
    "    Office=Row['Office']\n",
    "    Dept=Row['Dept']\n",
    "    Info=dta[str(Year)][Dept][Office]\n",
    "    \n",
    "    if 'NA' in list(Info.values()):\n",
    "        continue\n",
    "\n",
    "    PageList=Info['Page_Range']\n",
    "    PosiList=list(Info['Position'].keys())\n",
    "    PosiList\n",
    "\n",
    "    for Position in PosiList:\n",
    "        path=file_path+'\\\\'+Dept+'\\\\'+Office+'\\\\'+Position\n",
    "        os.mkdir(path)\n"
   ]
  }
 ],
 "metadata": {
  "kernelspec": {
   "display_name": "Python 3 (ipykernel)",
   "language": "python",
   "name": "python3"
  },
  "language_info": {
   "codemirror_mode": {
    "name": "ipython",
    "version": 3
   },
   "file_extension": ".py",
   "mimetype": "text/x-python",
   "name": "python",
   "nbconvert_exporter": "python",
   "pygments_lexer": "ipython3",
   "version": "3.9.13"
  }
 },
 "nbformat": 4,
 "nbformat_minor": 5
}
