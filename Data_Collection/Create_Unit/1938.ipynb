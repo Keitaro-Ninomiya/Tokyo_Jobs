{
 "cells": [
  {
   "cell_type": "code",
   "execution_count": 4,
   "id": "8977899a-e645-487a-b021-efc7cc95b87f",
   "metadata": {},
   "outputs": [],
   "source": [
    "import json\n",
    "import os\n",
    "import pandas as pd\n",
    "import numpy as np\n",
    "import cv2\n",
    "\n",
    "Year=1938\n",
    "Showa=13\n"
   ]
  },
  {
   "cell_type": "code",
   "execution_count": 5,
   "id": "1200fabf-1181-46bb-9b67-c8f8af8a3e6c",
   "metadata": {},
   "outputs": [],
   "source": [
    "file_path='C:\\\\Users\\\\Keitaro Ninomiya\\\\Box\\\\Research Notes (keitaro2@illinois.edu)\\\\Tokyo_Jobs\\\\Processed_Data\\\\'+str(Year)+'\\\\DataFrame.json'\n",
    "with open(file_path, encoding=\"utf-8\") as f:\n",
    "    dta = json.loads(f.read())"
   ]
  },
  {
   "cell_type": "code",
   "execution_count": 6,
   "id": "04302518-8d79-4f71-85c2-a8cc97ecf427",
   "metadata": {},
   "outputs": [],
   "source": [
    "df = pd.read_csv(r'C:/Users/Keitaro Ninomiya/Box/Research Notes (keitaro2@illinois.edu)/Tokyo_Jobs/Processed_Data/Index/S'+str(Showa)+'.csv')\n",
    "df=df.drop(df.columns[0], axis=1)\n",
    "\n",
    "file_path='C:\\\\Users\\\\Keitaro Ninomiya\\\\Box\\\\Research Notes (keitaro2@illinois.edu)\\\\Tokyo_Jobs\\\\Raw_Data\\\\Office_Level\\\\'+str(Year)+'\\\\'\n",
    "os.chdir(file_path)"
   ]
  },
  {
   "cell_type": "code",
   "execution_count": 9,
   "id": "506c8a77-1d63-4e32-abbd-3fed9f5204eb",
   "metadata": {},
   "outputs": [
    {
     "name": "stdout",
     "output_type": "stream",
     "text": [
      "秘書課 Admin\n",
      "人事課 Admin\n",
      "文書課 Admin\n",
      "庶務課 企画局\n",
      "企画課 企画局\n",
      "財務課 企画局\n",
      "統計課 企画局\n",
      "都市計画課 企画局\n",
      "会計課 経理局\n",
      "公債課 経理局\n",
      "主税課 経理局\n",
      "徴収課 経理局\n",
      "用度課 経理局\n",
      "地理課 経理局\n",
      "庶務課 産業局\n",
      "商工課 産業局\n",
      "貿易課 産業局\n",
      "出張所 産業局\n",
      "農漁課 産業局\n",
      "権度課 産業局\n",
      "庶務課 教育局\n",
      "学務課 教育局\n",
      "社会教育課 教育局\n",
      "体育課 教育局\n",
      "視学課 教育局\n",
      "庶務課 社会局\n",
      "保護課 社会局\n",
      "福利課 社会局\n",
      "職業課 社会局\n",
      "庶務課 保健局\n",
      "衛生課 保健局\n",
      "公園課 保健局\n",
      "庶務課 水道局\n",
      "会計課 水道局\n",
      "業務課 水道局\n",
      "給水課 水道局\n",
      "拡張課 水道局\n",
      "下水課 水道局\n",
      "庶務課 土木局\n",
      "道路管理課 土木局\n",
      "道路建設課 土木局\n",
      "河川課 土木局\n",
      "総務課 電気局\n",
      "労働課 電気局\n",
      "経理課 電気局\n",
      "会計課 電気局\n",
      "庶務課 運輸部\n",
      "業務課 運輸部\n",
      "事業普及課 運輸部\n",
      "車輌課 運輸部\n",
      "保線課 運輸部\n",
      "交通統制調査課 運輸部\n",
      "営業課 電燈部\n",
      "配線課 電燈部\n",
      "電力課 電燈部\n",
      "監察部 監査部\n",
      "区政部 監査部\n",
      "国民総精神総動員課 市民動員部\n",
      "防衛課 市民動員部\n",
      "軍事援護課 市民動員部\n",
      "監察課 清掃部\n",
      "作業課 清掃部\n",
      "庶務課 港湾部\n",
      "技術課 港湾部\n",
      "地所課 港湾部\n",
      "港務課 港湾部\n",
      "監理課 中央卸売市場\n",
      "会計課 中央卸売市場\n",
      "庶務課 養育院\n",
      "監護課 養育院\n",
      "医務課 養育院\n",
      "会計課 養育院\n",
      "巣鴨分院 養育院\n",
      "安房分院 養育院\n",
      "井之頭学校 養育院\n",
      "庶務課 電気研究所\n",
      "試験課 電気研究所\n",
      "研究課 電気研究所\n",
      "庶務課 小河内貯水池建設事務所\n",
      "工事課 小河内貯水池建設事務所\n",
      "管理課 臨時建築部\n",
      "第一工菅課 臨時建築部\n",
      "第二工菅課 臨時建築部\n"
     ]
    },
    {
     "ename": "KeyError",
     "evalue": "'Page_Range'",
     "output_type": "error",
     "traceback": [
      "\u001b[1;31m---------------------------------------------------------------------------\u001b[0m",
      "\u001b[1;31mKeyError\u001b[0m                                  Traceback (most recent call last)",
      "\u001b[1;32mC:\\Temp\\ipykernel_30708\\3172906252.py\u001b[0m in \u001b[0;36m<module>\u001b[1;34m\u001b[0m\n\u001b[0;32m      7\u001b[0m     \u001b[0mInfo\u001b[0m\u001b[1;33m=\u001b[0m\u001b[0mdta\u001b[0m\u001b[1;33m[\u001b[0m\u001b[0mstr\u001b[0m\u001b[1;33m(\u001b[0m\u001b[0mYear\u001b[0m\u001b[1;33m)\u001b[0m\u001b[1;33m]\u001b[0m\u001b[1;33m[\u001b[0m\u001b[0mDept\u001b[0m\u001b[1;33m]\u001b[0m\u001b[1;33m[\u001b[0m\u001b[0mOffice\u001b[0m\u001b[1;33m]\u001b[0m\u001b[1;33m\u001b[0m\u001b[1;33m\u001b[0m\u001b[0m\n\u001b[0;32m      8\u001b[0m \u001b[1;33m\u001b[0m\u001b[0m\n\u001b[1;32m----> 9\u001b[1;33m     \u001b[0mPageList\u001b[0m\u001b[1;33m=\u001b[0m\u001b[0mInfo\u001b[0m\u001b[1;33m[\u001b[0m\u001b[1;34m'Page_Range'\u001b[0m\u001b[1;33m]\u001b[0m\u001b[1;33m\u001b[0m\u001b[1;33m\u001b[0m\u001b[0m\n\u001b[0m\u001b[0;32m     10\u001b[0m     \u001b[1;32mtry\u001b[0m\u001b[1;33m:\u001b[0m\u001b[1;33m\u001b[0m\u001b[1;33m\u001b[0m\u001b[0m\n\u001b[0;32m     11\u001b[0m         \u001b[0mUnitList\u001b[0m\u001b[1;33m=\u001b[0m\u001b[0mnp\u001b[0m\u001b[1;33m.\u001b[0m\u001b[0munique\u001b[0m\u001b[1;33m(\u001b[0m\u001b[0mlist\u001b[0m\u001b[1;33m(\u001b[0m\u001b[0mInfo\u001b[0m\u001b[1;33m[\u001b[0m\u001b[1;34m'Units'\u001b[0m\u001b[1;33m]\u001b[0m\u001b[1;33m[\u001b[0m\u001b[1;34m'List'\u001b[0m\u001b[1;33m]\u001b[0m\u001b[1;33m)\u001b[0m\u001b[1;33m)\u001b[0m\u001b[1;33m\u001b[0m\u001b[1;33m\u001b[0m\u001b[0m\n",
      "\u001b[1;31mKeyError\u001b[0m: 'Page_Range'"
     ]
    }
   ],
   "source": [
    "#Creates unit level directories\n",
    "for n in range(0,len(df)+1):\n",
    "    Row  = df.iloc[n]\n",
    "    Office=Row['Office']\n",
    "    Dept=Row['Dept']\n",
    "    print(Office,Dept)\n",
    "    Info=dta[str(Year)][Dept][Office]\n",
    "\n",
    "    PageList=Info['Page_Range']\n",
    "    try:        \n",
    "        UnitList=np.unique(list(Info['Units']['List']))\n",
    "\n",
    "        for Unit in UnitList:\n",
    "            path=file_path+Dept+'\\\\'+Office+'\\\\'+Unit\n",
    "            os.mkdir(path)\n",
    "    except:\n",
    "        continue"
   ]
  }
 ],
 "metadata": {
  "kernelspec": {
   "display_name": "Python 3 (ipykernel)",
   "language": "python",
   "name": "python3"
  },
  "language_info": {
   "codemirror_mode": {
    "name": "ipython",
    "version": 3
   },
   "file_extension": ".py",
   "mimetype": "text/x-python",
   "name": "python",
   "nbconvert_exporter": "python",
   "pygments_lexer": "ipython3",
   "version": "3.9.13"
  }
 },
 "nbformat": 4,
 "nbformat_minor": 5
}
