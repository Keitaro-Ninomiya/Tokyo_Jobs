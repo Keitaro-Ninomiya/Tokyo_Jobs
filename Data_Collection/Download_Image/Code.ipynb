{
 "cells": [
  {
   "cell_type": "code",
   "execution_count": 1,
   "id": "e2532aac-6ae1-4435-9063-35e31329b5b5",
   "metadata": {},
   "outputs": [],
   "source": [
    "import requests\n",
    "import os\n",
    "\n",
    "def str_change(number):\n",
    "        if len(str(number))==1:\n",
    "            return \"00\"+str(number)\n",
    "        if len(str(number))==2:\n",
    "            return \"0\"+str(number)\n",
    "        else:\n",
    "            return str(number)\n",
    "        \n",
    "class Download:\n",
    "    def __init__(self,url):\n",
    "        self.url=url\n",
    "        \n",
    "    \n",
    "\n",
    "    def download(self):\n",
    "        for i in range(1, 300):\n",
    "            page=url+str_change(i)+\".jpg\"\n",
    "\n",
    "            img_data = requests.get(page).content\n",
    "            with open(\"Page\"+str_change(i)+'.jpg', 'wb') as handler:\n",
    "                handler.write(img_data)"
   ]
  },
  {
   "cell_type": "code",
   "execution_count": 15,
   "id": "42e96518-b0f9-4f44-a31d-c501fc0cdd35",
   "metadata": {},
   "outputs": [],
   "source": [
    "#1934\n",
    "os.chdir(\"C:/Users/Keitaro Ninomiya/Box/Research Notes (keitaro2@illinois.edu)/Tokyo_Jobs/Raw_Data/Metropolitan_DA/1934/Line\")\n",
    "url=\"https://archive.library.metro.tokyo.lg.jp/da/download/?id=0000000009-00054377&size=view&type=image&file=%2F%E6%9D%B1%E4%BA%AC%E5%BA%9C%E3%83%BB%E6%9D%B1%E4%BA%AC%E5%B8%82%E9%96%A2%E4%BF%82%E8%B3%87%E6%96%99%2F3120705216_0\"\n",
    "Download.download(url)"
   ]
  },
  {
   "cell_type": "code",
   "execution_count": 7,
   "id": "685a0712-f1ef-4853-b01d-80441d986e89",
   "metadata": {},
   "outputs": [],
   "source": [
    "#1935\n",
    "os.chdir(\"C:/Users/Keitaro Ninomiya/Box/Research Notes (keitaro2@illinois.edu)/Tokyo_Jobs/Raw_Data/Metropolitan_DA/1935/Line\")\n",
    "url=\"https://archive.library.metro.tokyo.lg.jp/da/download/?id=0000000009-00054378&size=view&type=image&file=%2F%E6%9D%B1%E4%BA%AC%E5%BA%9C%E3%83%BB%E6%9D%B1%E4%BA%AC%E5%B8%82%E9%96%A2%E4%BF%82%E8%B3%87%E6%96%99%2F3121024719_0\"\n",
    "        \n",
    "Download.download(url)"
   ]
  },
  {
   "cell_type": "code",
   "execution_count": 5,
   "id": "80450327-593b-4d6e-b8b5-b154c0146e09",
   "metadata": {},
   "outputs": [],
   "source": [
    "#1936\n",
    "os.chdir(\"C:/Users/Keitaro Ninomiya/Box/Research Notes (keitaro2@illinois.edu)/Tokyo_Jobs/Raw_Data/Metropolitan_DA/1936/Line\")\n",
    "url=\"https://archive.library.metro.tokyo.lg.jp/da/download/?id=0000000009-00054380&size=view&type=image&file=%2F%E6%9D%B1%E4%BA%AC%E5%BA%9C%E3%83%BB%E6%9D%B1%E4%BA%AC%E5%B8%82%E9%96%A2%E4%BF%82%E8%B3%87%E6%96%99%2F3120705252_0\"\n",
    "        \n",
    "Download.download(url)"
   ]
  },
  {
   "cell_type": "code",
   "execution_count": 6,
   "id": "59d24549-07cc-4f42-9a2e-14a818fb568d",
   "metadata": {},
   "outputs": [],
   "source": [
    "#1937\n",
    "os.chdir(\"C:/Users/Keitaro Ninomiya/Box/Research Notes (keitaro2@illinois.edu)/Tokyo_Jobs/Raw_Data/Metropolitan_DA/1937/Line\")\n",
    "url=\"https://archive.library.metro.tokyo.lg.jp/da/download/?id=0000000009-00054378&size=view&type=image&file=%2F%E6%9D%B1%E4%BA%AC%E5%BA%9C%E3%83%BB%E6%9D%B1%E4%BA%AC%E5%B8%82%E9%96%A2%E4%BF%82%E8%B3%87%E6%96%99%2F3121024719_0\"\n",
    "        \n",
    "Download.download(url)"
   ]
  },
  {
   "cell_type": "code",
   "execution_count": 2,
   "id": "34baebaa-bfd0-4e03-89b9-3bca15bdd279",
   "metadata": {},
   "outputs": [],
   "source": [
    "#1938\n",
    "os.chdir(\"C:/Users/Keitaro Ninomiya/Box/Research Notes (keitaro2@illinois.edu)/Tokyo_Jobs/Raw_Data/Metropolitan_DA/1938/Line\")\n",
    "url=\"https://archive.library.metro.tokyo.lg.jp/da/download/?id=0000000009-00054381&size=view&type=image&file=%2F%E6%9D%B1%E4%BA%AC%E5%BA%9C%E3%83%BB%E6%9D%B1%E4%BA%AC%E5%B8%82%E9%96%A2%E4%BF%82%E8%B3%87%E6%96%99%2F3120705261_0\"\n",
    "        \n",
    "Download.download(url)\n"
   ]
  },
  {
   "cell_type": "code",
   "execution_count": 3,
   "id": "c4f9ba4a-fb4c-4bb9-9743-6afe1b134874",
   "metadata": {},
   "outputs": [],
   "source": [
    "#1939\n",
    "os.chdir(\"C:/Users/Keitaro Ninomiya/Box/Research Notes (keitaro2@illinois.edu)/Tokyo_Jobs/Raw_Data/Metropolitan_DA/1939/Line\")\n",
    "url=\"https://archive.library.metro.tokyo.lg.jp/da/download/?id=0000000009-00054382&size=view&type=image&file=%2F%E6%9D%B1%E4%BA%AC%E5%BA%9C%E3%83%BB%E6%9D%B1%E4%BA%AC%E5%B8%82%E9%96%A2%E4%BF%82%E8%B3%87%E6%96%99%2F3121024728_0\"\n",
    "        \n",
    "Download.download(url)\n"
   ]
  },
  {
   "cell_type": "code",
   "execution_count": 3,
   "id": "4fb989ef-93c6-4652-9c19-b27fe3e2476a",
   "metadata": {},
   "outputs": [],
   "source": [
    "#1940\n",
    "os.chdir(\"C:/Users/Keitaro Ninomiya/Box/Research Notes (keitaro2@illinois.edu)/Tokyo_Jobs/Raw_Data/Metropolitan_DA/1940/Line\")\n",
    "url=\"https://archive.library.metro.tokyo.lg.jp/da/download/?id=0000000009-00054383&size=view&type=image&file=%2F%E6%9D%B1%E4%BA%AC%E5%BA%9C%E3%83%BB%E6%9D%B1%E4%BA%AC%E5%B8%82%E9%96%A2%E4%BF%82%E8%B3%87%E6%96%99%2F3121031428_0\"\n",
    "        \n",
    "Download.download(url)"
   ]
  },
  {
   "cell_type": "code",
   "execution_count": 4,
   "id": "37a36172-e23a-4cfa-974e-cac99cb9b797",
   "metadata": {},
   "outputs": [],
   "source": [
    "#1941\n",
    "os.chdir(\"C:/Users/Keitaro Ninomiya/Box/Research Notes (keitaro2@illinois.edu)/Tokyo_Jobs/Raw_Data/Metropolitan_DA/1941/Line\")\n",
    "url=\"https://archive.library.metro.tokyo.lg.jp/da/download/?id=0000000009-00054384&size=view&type=image&file=%2F%E6%9D%B1%E4%BA%AC%E5%BA%9C%E3%83%BB%E6%9D%B1%E4%BA%AC%E5%B8%82%E9%96%A2%E4%BF%82%E8%B3%87%E6%96%99%2F3121031437_0\"\n",
    "        \n",
    "Download.download(url)"
   ]
  },
  {
   "cell_type": "code",
   "execution_count": 5,
   "id": "1499949d-b23d-43ee-a9ba-63a136cc2064",
   "metadata": {},
   "outputs": [],
   "source": [
    "#1942\n",
    "os.chdir(\"C:/Users/Keitaro Ninomiya/Box/Research Notes (keitaro2@illinois.edu)/Tokyo_Jobs/Raw_Data/Metropolitan_DA/1942/Line\")\n",
    "url=\"https://archive.library.metro.tokyo.lg.jp/da/download/?id=0000000009-00054383&size=view&type=image&file=%2F%E6%9D%B1%E4%BA%AC%E5%BA%9C%E3%83%BB%E6%9D%B1%E4%BA%AC%E5%B8%82%E9%96%A2%E4%BF%82%E8%B3%87%E6%96%99%2F3121031428_0\"\n",
    "        \n",
    "Download.download(url)"
   ]
  }
 ],
 "metadata": {
  "kernelspec": {
   "display_name": "Python 3 (ipykernel)",
   "language": "python",
   "name": "python3"
  },
  "language_info": {
   "codemirror_mode": {
    "name": "ipython",
    "version": 3
   },
   "file_extension": ".py",
   "mimetype": "text/x-python",
   "name": "python",
   "nbconvert_exporter": "python",
   "pygments_lexer": "ipython3",
   "version": "3.9.13"
  }
 },
 "nbformat": 4,
 "nbformat_minor": 5
}
