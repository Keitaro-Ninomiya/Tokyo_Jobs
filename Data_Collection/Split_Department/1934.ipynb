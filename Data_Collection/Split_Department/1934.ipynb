{
 "cells": [
  {
   "cell_type": "markdown",
   "id": "05c08a9c",
   "metadata": {},
   "source": [
    "Purpose of code\n",
    "- Create dataframe for storing data"
   ]
  },
  {
   "cell_type": "markdown",
   "id": "72980f57",
   "metadata": {},
   "source": [
    "Define function and import package"
   ]
  },
  {
   "cell_type": "code",
   "execution_count": 1,
   "id": "a4d8bf51",
   "metadata": {},
   "outputs": [],
   "source": [
    "import pandas as pd\n",
    "import os\n",
    "import cv2\n",
    "import numpy as np\n",
    "import json\n",
    "\n",
    "class NpEncoder(json.JSONEncoder):\n",
    "    def default(self, obj):\n",
    "        if isinstance(obj, np.integer):\n",
    "            return int(obj)\n",
    "        if isinstance(obj, np.floating):\n",
    "            return float(obj)\n",
    "        if isinstance(obj, np.ndarray):\n",
    "            return obj.tolist()\n",
    "        return super(NpEncoder, self).default(obj)\n"
   ]
  },
  {
   "cell_type": "markdown",
   "id": "8c2cd140",
   "metadata": {},
   "source": [
    "Create the dataframe.\n",
    "DO NOT RUN this for each year. Running will overwrite pre-existing data-frame with empty data-frame."
   ]
  },
  {
   "cell_type": "code",
   "execution_count": 2,
   "id": "bd44e375",
   "metadata": {},
   "outputs": [],
   "source": [
    "dta={}"
   ]
  },
  {
   "cell_type": "markdown",
   "id": "bfc627b9",
   "metadata": {},
   "source": [
    "Code 1: Update year and Add departmental info into dataframe."
   ]
  },
  {
   "cell_type": "code",
   "execution_count": 3,
   "id": "04664e4f",
   "metadata": {},
   "outputs": [],
   "source": [
    "#Load list\n",
    "Year=1934\n",
    "Showa=10\n",
    "\n",
    "df = pd.read_csv(r'C:/Users/Keitaro Ninomiya/Box/Research Notes (keitaro2@illinois.edu)/Tokyo_Jobs/Processed_Data/Index/S'+str(Showa)+'.csv')\n",
    "df=df.drop(df.columns[0], axis=1)\n",
    "dta[str(Year)]={}\n",
    "DeptList=np.unique(df['Dept'])\n",
    "for n in range(0,len(DeptList)):\n",
    "    Dept=DeptList[n]\n",
    "    dta[str(Year)][Dept]={}"
   ]
  },
  {
   "cell_type": "markdown",
   "id": "2e7a4afe",
   "metadata": {},
   "source": [
    "Code 2: Save dataframe"
   ]
  },
  {
   "cell_type": "code",
   "execution_count": 4,
   "id": "87d85b18",
   "metadata": {},
   "outputs": [],
   "source": [
    "json_object = json.dumps(dta, indent=4,\n",
    "                        cls=NpEncoder)\n",
    "save_path='C:\\\\Users\\\\Keitaro Ninomiya\\\\Box\\\\Research Notes (keitaro2@illinois.edu)\\\\Tokyo_Jobs\\\\Processed_Data\\\\'+str(Year)+'\\\\'\n",
    "with open(save_path+\"DataFrame.json\", \"w\") as outfile:\n",
    "    outfile.write(json_object)"
   ]
  },
  {
   "cell_type": "code",
   "execution_count": 5,
   "id": "70f40c4f",
   "metadata": {},
   "outputs": [
    {
     "data": {
      "text/plain": [
       "{'1934': {'Admin': {},\n",
       "  '中央卸売市場': {},\n",
       "  '保健局': {},\n",
       "  '土木局': {},\n",
       "  '教育局': {},\n",
       "  '水道局': {},\n",
       "  '港湾部': {},\n",
       "  '産業局': {},\n",
       "  '監査局': {},\n",
       "  '社会局': {},\n",
       "  '財務局': {},\n",
       "  '電気局': {},\n",
       "  '養育院': {}}}"
      ]
     },
     "execution_count": 5,
     "metadata": {},
     "output_type": "execute_result"
    }
   ],
   "source": [
    "dta"
   ]
  }
 ],
 "metadata": {
  "kernelspec": {
   "display_name": "Python 3 (ipykernel)",
   "language": "python",
   "name": "python3"
  },
  "language_info": {
   "codemirror_mode": {
    "name": "ipython",
    "version": 3
   },
   "file_extension": ".py",
   "mimetype": "text/x-python",
   "name": "python",
   "nbconvert_exporter": "python",
   "pygments_lexer": "ipython3",
   "version": "3.9.13"
  }
 },
 "nbformat": 4,
 "nbformat_minor": 5
}
