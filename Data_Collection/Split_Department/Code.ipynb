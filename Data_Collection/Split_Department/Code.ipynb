{
 "cells": [
  {
   "cell_type": "markdown",
   "id": "b8b921a3-d625-49de-8d38-c6ad6c4e62b0",
   "metadata": {},
   "source": [
    "Purpose of code\n",
    "- Create dataframe for storing data"
   ]
  },
  {
   "cell_type": "markdown",
   "id": "b679d267-83d2-4372-8744-a01056389fe8",
   "metadata": {},
   "source": [
    "Define function and import package"
   ]
  },
  {
   "cell_type": "code",
   "execution_count": 15,
   "id": "8c60025f-9ce6-4ba2-9988-08143bdebffd",
   "metadata": {},
   "outputs": [],
   "source": [
    "import pandas as pd\n",
    "import os\n",
    "import cv2\n",
    "import numpy as np\n",
    "import json\n",
    "\n",
    "class NpEncoder(json.JSONEncoder):\n",
    "    def default(self, obj):\n",
    "        if isinstance(obj, np.integer):\n",
    "            return int(obj)\n",
    "        if isinstance(obj, np.floating):\n",
    "            return float(obj)\n",
    "        if isinstance(obj, np.ndarray):\n",
    "            return obj.tolist()\n",
    "        return super(NpEncoder, self).default(obj)\n"
   ]
  },
  {
   "cell_type": "markdown",
   "id": "ee222e0e-b1dd-45e3-bfb2-6732f56b80f6",
   "metadata": {},
   "source": [
    "Create the dataframe.\n",
    "DO NOT RUN this for each year. Running will overwrite pre-existing data-frame with empty data-frame."
   ]
  },
  {
   "cell_type": "code",
   "execution_count": 16,
   "id": "ca4a4be0-dd81-4ff5-8d1f-4ab770f68ac2",
   "metadata": {},
   "outputs": [],
   "source": [
    "dta={}"
   ]
  },
  {
   "cell_type": "markdown",
   "id": "6686563d-34d2-484f-8907-091b32f97c7e",
   "metadata": {},
   "source": [
    "Code 1: Update year and Add departmental info into dataframe."
   ]
  },
  {
   "cell_type": "code",
   "execution_count": 17,
   "id": "64bec45a-9072-4159-8122-04ca07f385d9",
   "metadata": {},
   "outputs": [],
   "source": [
    "#Load list\n",
    "Year=1934\n",
    "Showa=9\n",
    "\n",
    "df = pd.read_csv(r'C:/Users/Keitaro Ninomiya/Box/Research Notes (keitaro2@illinois.edu)/Tokyo_Jobs/Processed_Data/Index/S'+str(Showa)+'.csv')\n",
    "df=df.drop(df.columns[0], axis=1)\n",
    "dta[str(Year)]={}\n",
    "DeptList=np.unique(df['Dept'])\n",
    "for n in range(0,len(DeptList)):\n",
    "    Dept=DeptList[n]\n",
    "    dta[str(Year)][Dept]={}"
   ]
  },
  {
   "cell_type": "markdown",
   "id": "221bb584-453e-4ea8-afea-2e0a7b2dea7a",
   "metadata": {},
   "source": [
    "Code 2: Save dataframe"
   ]
  },
  {
   "cell_type": "code",
   "execution_count": 19,
   "id": "363277b6-989f-4de3-b056-3fb59054e521",
   "metadata": {},
   "outputs": [],
   "source": [
    "json_object = json.dumps(dta, indent=4,\n",
    "                        cls=NpEncoder)\n",
    "save_path='C:\\\\Users\\\\Keitaro Ninomiya\\\\Box\\\\Research Notes (keitaro2@illinois.edu)\\\\Tokyo_Jobs\\\\Processed_Data\\\\'\n",
    "with open(save_path+\"DataFrame.json\", \"w\") as outfile:\n",
    "    outfile.write(json_object)"
   ]
  },
  {
   "cell_type": "code",
   "execution_count": 20,
   "id": "caead919-f30b-4990-8cb6-313dc7788294",
   "metadata": {},
   "outputs": [
    {
     "data": {
      "text/plain": [
       "{'1934': {'Admin': {},\n",
       "  '中央卸売市場': {},\n",
       "  '保健局': {},\n",
       "  '土木局': {},\n",
       "  '教育局': {},\n",
       "  '水道局': {},\n",
       "  '港湾部（S8.11.1）': {},\n",
       "  '産業局': {},\n",
       "  '監査局': {},\n",
       "  '社会局': {},\n",
       "  '財務局': {},\n",
       "  '電気局(S8.11.6)': {},\n",
       "  '電気研究所（S8.11.18）': {}}}"
      ]
     },
     "execution_count": 20,
     "metadata": {},
     "output_type": "execute_result"
    }
   ],
   "source": [
    "dta"
   ]
  }
 ],
 "metadata": {
  "kernelspec": {
   "display_name": "Python 3 (ipykernel)",
   "language": "python",
   "name": "python3"
  },
  "language_info": {
   "codemirror_mode": {
    "name": "ipython",
    "version": 3
   },
   "file_extension": ".py",
   "mimetype": "text/x-python",
   "name": "python",
   "nbconvert_exporter": "python",
   "pygments_lexer": "ipython3",
   "version": "3.9.13"
  }
 },
 "nbformat": 4,
 "nbformat_minor": 5
}
