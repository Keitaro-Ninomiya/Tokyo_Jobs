{
 "cells": [
  {
   "cell_type": "raw",
   "id": "33ff54c6-403c-469e-8399-966f4234d93b",
   "metadata": {},
   "source": [
    "This code detects the location of starting point of an office;\n",
    "\n",
    "Input: List of offices + Corresponding offices \n",
    "\n",
    "=> Output: List of offices with coordinate information"
   ]
  },
  {
   "cell_type": "code",
   "execution_count": 1,
   "id": "fe43426e-9782-41c8-9343-ca3473e2427c",
   "metadata": {},
   "outputs": [],
   "source": [
    "import pandas as pd\n",
    "import os\n",
    "import cv2\n",
    "import numpy as np\n",
    "import json"
   ]
  },
  {
   "cell_type": "code",
   "execution_count": 2,
   "id": "71e30e1b-07df-458a-ad5e-b5fea7057cde",
   "metadata": {},
   "outputs": [],
   "source": [
    "def Detect_Office(Json,Office):\n",
    "\n",
    "    NewList=Json['fields']\n",
    "    Dict=list()\n",
    "    for d in NewList:\n",
    "        try:\n",
    "            newDict={}\n",
    "            newDict['inferText']=d['inferText']\n",
    "            newDict['boundingPoly']=d['boundingPoly']\n",
    "            Dict.append(newDict)\n",
    "        except KeyError:\n",
    "            continue\n",
    "\n",
    "    res = [d\n",
    "       for d in Dict \n",
    "       if (Office[0] == d['inferText']) or (Office == d['inferText'])]\n",
    "\n",
    "    res = res[0]['boundingPoly']['vertices']\n",
    "    Edge=max(int(d['x']) for d in res)\n",
    "    return(Edge)\n",
    "\n",
    "class NpEncoder(json.JSONEncoder):\n",
    "    def default(self, obj):\n",
    "        if isinstance(obj, np.integer):\n",
    "            return int(obj)\n",
    "        if isinstance(obj, np.floating):\n",
    "            return float(obj)\n",
    "        if isinstance(obj, np.ndarray):\n",
    "            return obj.tolist()\n",
    "        return super(NpEncoder, self).default(obj)\n",
    "\n",
    "### CLOVA FUNCTION ###\n",
    "import requests\n",
    "import uuid\n",
    "import time\n",
    "import json\n",
    "import cv2\n",
    "import base64\n",
    "\n",
    "api_url = 'https://deelieyxuc.apigw.ntruss.com/custom/v1/1972/ebd01bcbf693d069817622e9839e20914143c7d0d8953eddee40e8b0af96c95b/general'\n",
    "secret_key = 'S1NmVXpYZlJ0cGJ0ZEFRZXVlbkRkaHFReE9FcHNTQ0U='\n",
    "\n",
    "def Clova(Year,Page):\n",
    "    path=\"C:\\\\Users\\\\Keitaro Ninomiya\\\\Box\\\\Research Notes (keitaro2@illinois.edu)\\\\Tokyo_Jobs\\\\Raw_Data\\\\Splited\\\\\"+Year+\"\\\\\"\n",
    "    with open(path+\"Page\"+\"{:03d}\".format(Page)+\"\\\\\"+\"Page\"+\"{:03d}\".format(Page)+\".jpg\",'rb') as f:\n",
    "         file_data = f.read()\n",
    "\n",
    "    request_json = {\n",
    "            'images': [\n",
    "                {\n",
    "                    'format': 'jpg',\n",
    "                    'name': 'demo',\n",
    "                    'data':base64.b64encode(file_data).decode()}],\n",
    "            'requestId': str(uuid.uuid4()),\n",
    "            'version': 'V2',\n",
    "            'timestamp': int(round(time.time() * 1000)),\n",
    "            'lang':'ja'\n",
    "            }\n",
    "    payload = json.dumps(request_json).encode(\"UTF-8\")\n",
    "    headers = {'X-OCR-SECRET': secret_key,\n",
    "              'Content-Type': 'application/json'}\n",
    "    response = requests.request(\"POST\", api_url, headers=headers, data = payload)\n",
    "    Json=json.loads(response.text)['images'][0]\n",
    "    \n",
    "    return Json"
   ]
  },
  {
   "cell_type": "code",
   "execution_count": 3,
   "id": "48437eae-2295-40b1-8f90-e74cee6899a3",
   "metadata": {},
   "outputs": [],
   "source": [
    "Year='1934'\n",
    "Showa='9'\n",
    "path=\"C:\\\\Users\\\\Keitaro Ninomiya\\\\Box\\\\Research Notes (keitaro2@illinois.edu)\\\\Tokyo_Jobs\\\\Raw_Data\\\\Splited\\\\\"+Year+\"\\\\\"\n",
    "os.chdir(path)\n",
    "df = pd.read_csv(r'C:/Users/Keitaro Ninomiya/Box/Research Notes (keitaro2@illinois.edu)/Tokyo_Jobs/Processed_Data/Index/S'+Showa+'.csv')\n",
    "df=df.drop(df.columns[0], axis=1)\n",
    "\n",
    "file_path='C:\\\\Users\\\\Keitaro Ninomiya\\\\Box\\\\Research Notes (keitaro2@illinois.edu)\\\\Tokyo_Jobs\\\\Processed_Data\\\\DataFrame.json'\n",
    "with open(file_path, encoding=\"utf-8\") as f:\n",
    "    dta = json.loads(f.read())"
   ]
  },
  {
   "cell_type": "code",
   "execution_count": 4,
   "id": "37874974-3b8c-49b9-a79f-6ab2253bf34e",
   "metadata": {},
   "outputs": [
    {
     "data": {
      "text/plain": [
       "(Office      文書課\n",
       " Dept      Admin\n",
       " Year          9\n",
       " Page          3\n",
       " Name: 2, dtype: object,\n",
       " Office      職員課\n",
       " Dept      Admin\n",
       " Year          9\n",
       " Page          2\n",
       " Name: 1, dtype: object)"
      ]
     },
     "execution_count": 4,
     "metadata": {},
     "output_type": "execute_result"
    }
   ],
   "source": [
    "#Test code| Version 2#\n",
    "#Show Working office#\n",
    "n=2\n",
    "\n",
    "#Extract key info of office\n",
    "Row  = df.iloc[n]\n",
    "ExRow= df.iloc[n-1]\n",
    "Row,ExRow"
   ]
  },
  {
   "cell_type": "code",
   "execution_count": 5,
   "id": "922f8a82-1acd-46ee-a1ae-f83883eef292",
   "metadata": {},
   "outputs": [],
   "source": [
    "#\n",
    "Showa=ExRow[\"Year\"]\n",
    "\n",
    "Page=Row[\"Page\"]\n",
    "ExPage=ExRow[\"Page\"]\n",
    "\n",
    "Dept=Row[\"Dept\"]\n",
    "ExDept=ExRow[\"Dept\"]\n",
    "\n",
    "Office=Row[\"Office\"]\n",
    "ExOffice=ExRow[\"Office\"]\n",
    "\n",
    "dta[str(Year)][Dept][Office]={}\n",
    "dta[str(Year)][ExDept][ExOffice]={}\n",
    "dta[str(Year)][ExDept][ExOffice][\"Starting_Page\"]=ExPage"
   ]
  },
  {
   "cell_type": "code",
   "execution_count": 6,
   "id": "30a42c24-d8ec-45b2-9391-5a73d597fd6c",
   "metadata": {},
   "outputs": [
    {
     "name": "stdout",
     "output_type": "stream",
     "text": [
      "文書課\n",
      "{'1934': {'Admin': {'文書課': {'Starting_Page': 3}, '職員課': {'Starting_Page': 2}, '庶務課': {'Starting_Page': 5, 'Office_X1': 429}}, '中央卸売市場': {}, '保健局': {}, '土木局': {}, '教育局': {}, '水道局': {}, '港湾部（S8.11.1）': {}, '産業局': {}, '監査局': {}, '社会局': {}, '財務局': {}, '電気局(S8.11.6)': {}, '電気研究所（S8.11.18）': {}}}\n"
     ]
    },
    {
     "data": {
      "text/plain": [
       "{'文書課': {'Starting_Page': 3, 'Office_X1': 292},\n",
       " '職員課': {'Starting_Page': 2,\n",
       "  'Ending_Page': 3,\n",
       "  'Office_X2': 302,\n",
       "  'Page_Range': [2, 3]},\n",
       " '庶務課': {'Starting_Page': 5, 'Office_X1': 429}}"
      ]
     },
     "execution_count": 6,
     "metadata": {},
     "output_type": "execute_result"
    }
   ],
   "source": [
    "#Test code| Version 2#\n",
    "#Decompose info into elements\n",
    "Page=int(Row[\"Page\"])\n",
    "Office=Row[\"Office\"]\n",
    "print(Office)\n",
    "ExPage=int(ExRow[\"Page\"])\n",
    "ExOffice=ExRow[\"Office\"]\n",
    "\n",
    "\n",
    "###Insert Starting page information to motherframe###\n",
    "dta[Year][Dept][Office]={}\n",
    "dta[Year][Dept][Office][\"Starting_Page\"]=Page\n",
    "print(dta)\n",
    "\n",
    "###Collect Location information###\n",
    "##Read image for first page##\n",
    "img=cv2.imread(\"Page\"+\"{:03d}\".format(Page)+\"\\\\\"+\"Page\"+\"{:03d}\".format(Page)+\".jpg\")\n",
    "#Convert to json via CLOVA\n",
    "Json=Clova(Year,Page)\n",
    "\n",
    "#Find X coordinate of 'Office'.\n",
    "XCoord_Unit=Detect_Office(Json,Office)\n",
    "#Add to motherframe\n",
    "dta[str(Year)][Dept][Office][\"Office_X1\"]=XCoord_Unit\n",
    "dta[str(Year)][ExDept][ExOffice][\"Ending_Page\"]=Page\n",
    "dta[str(Year)][ExDept][ExOffice][\"Office_X2\"]=XCoord_Unit+10\n",
    "dta[str(Year)][ExDept][ExOffice][\"Page_Range\"]=list(range(ExPage,Page+1))\n",
    "dta[str(Year)][Dept]"
   ]
  },
  {
   "cell_type": "code",
   "execution_count": 7,
   "id": "c0dfbc14-0a1e-4398-adc2-a8dbea794d87",
   "metadata": {},
   "outputs": [
    {
     "data": {
      "text/plain": [
       "Office    庶務課\n",
       "Dept      監査局\n",
       "Year        9\n",
       "Page        5\n",
       "Name: 3, dtype: object"
      ]
     },
     "execution_count": 7,
     "metadata": {},
     "output_type": "execute_result"
    }
   ],
   "source": [
    "#Test code| Version 2#\n",
    "#Show Working office#\n",
    "n=3\n",
    "\n",
    "#Extract key info of office\n",
    "Row  = df.iloc[n]\n",
    "ExRow= df.iloc[n-1]\n",
    "Row"
   ]
  },
  {
   "cell_type": "code",
   "execution_count": 8,
   "id": "07982e79-f4ab-42f2-b574-1c626d3677b8",
   "metadata": {},
   "outputs": [
    {
     "name": "stdout",
     "output_type": "stream",
     "text": [
      "庶務課\n",
      "{'1934': {'Admin': {'文書課': {'Starting_Page': 3, 'Office_X1': 292}, '職員課': {'Starting_Page': 2, 'Ending_Page': 3, 'Office_X2': 302, 'Page_Range': [2, 3]}, '庶務課': {'Starting_Page': 5}}, '中央卸売市場': {}, '保健局': {}, '土木局': {}, '教育局': {}, '水道局': {}, '港湾部（S8.11.1）': {}, '産業局': {}, '監査局': {}, '社会局': {}, '財務局': {}, '電気局(S8.11.6)': {}, '電気研究所（S8.11.18）': {}}}\n"
     ]
    },
    {
     "data": {
      "text/plain": [
       "{'1934': {'Admin': {'文書課': {'Starting_Page': 3,\n",
       "    'Office_X1': 292,\n",
       "    'Ending_Page': 5,\n",
       "    'Office_X2': 439,\n",
       "    'Page_Range': [3, 4, 5]},\n",
       "   '職員課': {'Starting_Page': 2,\n",
       "    'Ending_Page': 3,\n",
       "    'Office_X2': 302,\n",
       "    'Page_Range': [2, 3]},\n",
       "   '庶務課': {'Starting_Page': 5, 'Office_X1': 429}},\n",
       "  '中央卸売市場': {},\n",
       "  '保健局': {},\n",
       "  '土木局': {},\n",
       "  '教育局': {},\n",
       "  '水道局': {},\n",
       "  '港湾部（S8.11.1）': {},\n",
       "  '産業局': {},\n",
       "  '監査局': {},\n",
       "  '社会局': {},\n",
       "  '財務局': {},\n",
       "  '電気局(S8.11.6)': {},\n",
       "  '電気研究所（S8.11.18）': {}}}"
      ]
     },
     "execution_count": 8,
     "metadata": {},
     "output_type": "execute_result"
    }
   ],
   "source": [
    "Page=int(Row[\"Page\"])\n",
    "Office=Row[\"Office\"]\n",
    "print(Office)\n",
    "ExPage=int(ExRow[\"Page\"])\n",
    "ExOffice=ExRow[\"Office\"]\n",
    "\n",
    "\n",
    "###Insert Starting page information to motherframe###\n",
    "dta[Year][Dept][Office]={}\n",
    "dta[Year][Dept][Office][\"Starting_Page\"]=Page\n",
    "print(dta)\n",
    "\n",
    "###Collect Location information###\n",
    "##Read image for first page##\n",
    "img=cv2.imread(\"Page\"+\"{:03d}\".format(Page)+\"\\\\\"+\"Page\"+\"{:03d}\".format(Page)+\".jpg\")\n",
    "#Convert to json via CLOVA\n",
    "Json=Clova(Year,Page)\n",
    "\n",
    "#Find X coordinate of 'Office'.\n",
    "XCoord_Unit=Detect_Office(Json,Office)\n",
    "#Add to motherframe\n",
    "dta[str(Year)][Dept][Office][\"Office_X1\"]=XCoord_Unit\n",
    "dta[str(Year)][ExDept][ExOffice][\"Ending_Page\"]=Page\n",
    "dta[str(Year)][ExDept][ExOffice][\"Office_X2\"]=XCoord_Unit+10\n",
    "dta[str(Year)][ExDept][ExOffice][\"Page_Range\"]=list(range(ExPage,Page+1))\n",
    "dta"
   ]
  },
  {
   "cell_type": "code",
   "execution_count": 9,
   "id": "b43a3678-2761-40eb-9b3a-783d702c8dbf",
   "metadata": {},
   "outputs": [
    {
     "data": {
      "text/plain": [
       "{'1934': {'Admin': {'文書課': {'Starting_Page': 3,\n",
       "    'Office_X1': 292,\n",
       "    'Ending_Page': 5,\n",
       "    'Office_X2': 439,\n",
       "    'Page_Range': [3, 4, 5]},\n",
       "   '職員課': {'Starting_Page': 2,\n",
       "    'Ending_Page': 3,\n",
       "    'Office_X2': 302,\n",
       "    'Page_Range': [2, 3]},\n",
       "   '庶務課': {'Starting_Page': 5, 'Office_X1': 429}},\n",
       "  '中央卸売市場': {},\n",
       "  '保健局': {},\n",
       "  '土木局': {},\n",
       "  '教育局': {},\n",
       "  '水道局': {},\n",
       "  '港湾部（S8.11.1）': {},\n",
       "  '産業局': {},\n",
       "  '監査局': {},\n",
       "  '社会局': {},\n",
       "  '財務局': {},\n",
       "  '電気局(S8.11.6)': {},\n",
       "  '電気研究所（S8.11.18）': {}}}"
      ]
     },
     "execution_count": 9,
     "metadata": {},
     "output_type": "execute_result"
    }
   ],
   "source": [
    "dta"
   ]
  },
  {
   "cell_type": "code",
   "execution_count": 184,
   "id": "c8ff80dc-d69c-4c5a-bbb9-84b976fa2f32",
   "metadata": {},
   "outputs": [],
   "source": [
    "json_object = json.dumps(dta, indent=4,\n",
    "                        cls=NpEncoder)\n",
    "save_path='C:\\\\Users\\\\Keitaro Ninomiya\\\\Box\\\\Research Notes (keitaro2@illinois.edu)\\\\Tokyo_Jobs\\\\Processed_Data\\\\'\n",
    "with open(save_path+\"DataFrame.json\", \"w\") as outfile:\n",
    "    outfile.write(json_object)"
   ]
  }
 ],
 "metadata": {
  "kernelspec": {
   "display_name": "Python 3 (ipykernel)",
   "language": "python",
   "name": "python3"
  },
  "language_info": {
   "codemirror_mode": {
    "name": "ipython",
    "version": 3
   },
   "file_extension": ".py",
   "mimetype": "text/x-python",
   "name": "python",
   "nbconvert_exporter": "python",
   "pygments_lexer": "ipython3",
   "version": "3.9.13"
  }
 },
 "nbformat": 4,
 "nbformat_minor": 5
}
