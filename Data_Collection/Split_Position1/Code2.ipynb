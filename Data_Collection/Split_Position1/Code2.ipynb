{
 "cells": [
  {
   "cell_type": "code",
   "execution_count": null,
   "id": "cacb7059-7360-4a56-be3c-47f46b722953",
   "metadata": {},
   "outputs": [],
   "source": [
    "import json\n",
    "import os\n",
    "import pandas as pd\n",
    "import numpy as np\n",
    "import cv2\n",
    "\n",
    "file_path='C:\\\\Users\\\\Keitaro Ninomiya\\\\Box\\\\Research Notes (keitaro2@illinois.edu)\\\\Tokyo_Jobs\\\\Processed_Data\\\\DataFrame.json'\n",
    "with open(file_path, encoding=\"utf-8\") as f:\n",
    "    dta = json.loads(f.read())"
   ]
  },
  {
   "cell_type": "code",
   "execution_count": null,
   "id": "2cb69eae-84ab-4d79-9e40-1dc470fa6f75",
   "metadata": {},
   "outputs": [],
   "source": [
    "Year='1934'\n",
    "Showa='9'\n",
    "\n",
    "df = pd.read_csv(r'C:/Users/Keitaro Ninomiya/Box/Research Notes (keitaro2@illinois.edu)/Tokyo_Jobs/Processed_Data/Index/S'+Showa+'.csv')\n",
    "df=df.drop(df.columns[0], axis=1)"
   ]
  },
  {
   "cell_type": "code",
   "execution_count": null,
   "id": "e43d99ca-d3a1-4a93-aec7-c54da113041b",
   "metadata": {},
   "outputs": [],
   "source": [
    "n=2\n",
    "Row  = df.iloc[n]\n",
    "Dept=Row['Dept']\n",
    "Office=Row['Office']\n",
    "\n",
    "Info=dta[str(Year)][Dept][Office]\n",
    "PageList=Info['Page_Range']\n",
    "print(Info)\n",
    "StrPage=PageList[0]\n",
    "StrCord=Info['Office_X1']\n",
    "EndPage=PageList[-1]\n",
    "EndCord=Info['Office_X2']\n",
    "\n",
    "\n",
    "path='C:\\\\Users\\\\Keitaro Ninomiya\\\\Box\\\\Research Notes (keitaro2@illinois.edu)\\\\Tokyo_Jobs\\\\Raw_Data\\\\Splited\\\\'+str(Year)+'\\\\'\n",
    "save_path='C:\\\\Users\\\\Keitaro Ninomiya\\\\Box\\\\Research Notes (keitaro2@illinois.edu)\\\\Tokyo_Jobs\\\\Raw_Data\\\\Office_Level\\\\'+str(Year)+'\\\\'+Dept+'\\\\'+Office+'\\\\'\n",
    "os.chdir(save_path)\n",
    "\n",
    "Count=1\n",
    "if StrPage!=EndPage:\n",
    "    for Page in PageList:\n",
    "        if Page==PageList[0]:\n",
    "            print(\"Starting at\"+str(Page)+\"|Count is\"+str(Count))\n",
    "            img=cv2.imread(path+\"Page\"+\"{:03d}\".format(Page)+\"\\\\\"+\"Page\"+\"{:03d}\".format(Page)+\".jpg\")\n",
    "            HH, WW = img.shape[:2]\n",
    "            img=img[0:HH,0:StrCord]\n",
    "            cv2.imshow(\"Start\",img)\n",
    "            cv2.waitKey(0)\n",
    "            cv2.imwrite('Image'+str(Count)+'.png', img)\n",
    "            Count=Count+1\n",
    "        if Page==PageList[-1]:\n",
    "            print(\"Ending at\"+str(Page)+\"|Count is\"+str(Count))\n",
    "            img=cv2.imread(path+\"Page\"+\"{:03d}\".format(Page)+\"\\\\\"+\"Page\"+\"{:03d}\".format(Page)+\".jpg\")\n",
    "            HH, WW = img.shape[:2]\n",
    "            img=img[0:HH,EndCord:WW]\n",
    "            cv2.imshow(\"End\",img)\n",
    "            cv2.waitKey(0)\n",
    "            cv2.imwrite('Image'+str(Count)+'.png', img)\n",
    "        else:\n",
    "            print(\"Continuing at\"+str(Page)+\"|Count is\"+str(Count))\n",
    "            img=cv2.imread(path+\"Page\"+\"{:03d}\".format(Page)+\"\\\\\"+\"Page\"+\"{:03d}\".format(Page)+\".jpg\")\n",
    "            HH, WW = img.shape[:2]\n",
    "            img=img[0:HH,0:WW]\n",
    "            cv2.imshow(\"Interim\",img)\n",
    "            cv2.waitKey(0)\n",
    "            cv2.imwrite('Image'+str(Count)+'.png', img)\n",
    "            Count=Count+1\n",
    "if StrPage==EndPage:\n",
    "    img=cv2.imread(path+\"Page\"+\"{:03d}\".format(Page)+\"\\\\\"+\"Page\"+\"{:03d}\".format(Page)+\".jpg\")\n",
    "    HH, WW = img.shape[:2]\n",
    "    img=img[0:HH,EndCord:StrCord]\n",
    "    cv2.imwrite('Image'+str(Count)+'.png', img)"
   ]
  }
 ],
 "metadata": {
  "kernelspec": {
   "display_name": "Python 3 (ipykernel)",
   "language": "python",
   "name": "python3"
  },
  "language_info": {
   "codemirror_mode": {
    "name": "ipython",
    "version": 3
   },
   "file_extension": ".py",
   "mimetype": "text/x-python",
   "name": "python",
   "nbconvert_exporter": "python",
   "pygments_lexer": "ipython3",
   "version": "3.9.13"
  }
 },
 "nbformat": 4,
 "nbformat_minor": 5
}
