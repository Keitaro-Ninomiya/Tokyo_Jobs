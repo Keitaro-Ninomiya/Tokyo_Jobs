{
 "cells": [
  {
   "cell_type": "code",
   "execution_count": 1,
   "id": "5bc033f0",
   "metadata": {},
   "outputs": [],
   "source": [
    "import json\n",
    "import os\n",
    "import pandas as pd\n",
    "import numpy as np\n",
    "import cv2\n",
    "\n",
    "Year=\n",
    "Showa="
   ]
  },
  {
   "cell_type": "code",
   "execution_count": 2,
   "id": "797c0783",
   "metadata": {},
   "outputs": [],
   "source": [
    "file_path='C:\\\\Users\\\\Keitaro Ninomiya\\\\Box\\\\Research Notes (keitaro2@illinois.edu)\\\\Tokyo_Jobs\\\\Processed_Data\\\\'+Year+'\\\\DataFrame.json'\n",
    "with open(file_path, encoding=\"utf-8\") as f:\n",
    "    dta = json.loads(f.read())\n",
    "df = pd.read_csv(r'C:/Users/Keitaro Ninomiya/Box/Research Notes (keitaro2@illinois.edu)/Tokyo_Jobs/Processed_Data/Index/S'+Showa+'.csv')\n",
    "df=df.drop(df.columns[0], axis=1)"
   ]
  },
  {
   "cell_type": "code",
   "execution_count": 3,
   "id": "a0785bcd",
   "metadata": {},
   "outputs": [
    {
     "name": "stdout",
     "output_type": "stream",
     "text": [
      "['Manager', 'Leader', 'Admin', 'Outsource']\n"
     ]
    }
   ],
   "source": [
    "n=0\n",
    "Row  = df.iloc[n]\n",
    "Dept=Row['Dept']\n",
    "Office=Row['Office']\n",
    "Info=dta[str(Year)][Dept][Office]\n",
    "PageList=Info['Page_Range']\n",
    "PosiList=list(Info['Position'].keys())\n",
    "print(PosiList)"
   ]
  },
  {
   "cell_type": "code",
   "execution_count": 15,
   "id": "fb226a21",
   "metadata": {},
   "outputs": [
    {
     "data": {
      "text/plain": [
       "-1"
      ]
     },
     "execution_count": 15,
     "metadata": {},
     "output_type": "execute_result"
    }
   ],
   "source": [
    "save_path='C:\\\\Users\\\\Keitaro Ninomiya\\\\Box\\\\Research Notes (keitaro2@illinois.edu)\\\\Tokyo_Jobs\\\\Raw_Data\\\\Office_Level\\\\'+str(Year)+'\\\\'+Dept+'\\\\'+Office+'\\\\'\n",
    "os.chdir(save_path)\n",
    "Count=1\n",
    "\n",
    "for Position in PosiList:\n",
    "    print(Position)\n",
    "    StrPage=int(dta[Year][Dept][Office]['Position'][Position]['Page'])\n",
    "    StrCord=int(dta[Year][Dept][Office]['Position'][Position]['XLocation'])\n",
    "    EndPage=int(dta[Year][Dept][Office]['Position'][Position]['EndPage'])\n",
    "    EndCord=int(dta[Year][Dept][Office]['Position'][Position]['EndLocation'])\n",
    "    print()\n",
    "    print(\"Start Page is \"+str(StrPage))\n",
    "    print(\"End Page is \"+str(EndPage))\n",
    "    \n",
    "    if StrPage==EndPage:\n",
    "        if StrCord<EndCord:\n",
    "            print('Error! Coordinate size is reversed for '+Office+' of '+Dept)\n",
    "            continue\n",
    "        print(\"One Page\")\n",
    "        stream = open(save_path+\"//Image\"+str(Count)+\".png\", \"rb\")\n",
    "        bytes = bytearray(stream.read())\n",
    "        numpyarray = np.asarray(bytes, dtype=np.uint8)\n",
    "        img = cv2.imdecode(numpyarray, cv2.IMREAD_UNCHANGED)\n",
    "\n",
    "        HH, WW = img.shape[:2]\n",
    "        print(EndCord,StrCord)\n",
    "        img=img[0:HH,EndCord:StrCord]\n",
    "        cv2.imshow(\"Start\",img)\n",
    "        cv2.waitKey(0)\n",
    "        cv2.imwrite(Position+'\\\\Image'+str(1)+'.png', img)\n",
    "        \n",
    "    else:\n",
    "        for Page in range(StrPage,EndPage):\n",
    "            print(\"Multiple Page\")\n",
    "            if Page==StrPage:\n",
    "                SubCount=1\n",
    "                stream = open(save_path+\"//Image\"+str(Count)+\".png\", \"rb\")\n",
    "                bytes = bytearray(stream.read())\n",
    "                numpyarray = np.asarray(bytes, dtype=np.uint8)\n",
    "                img = cv2.imdecode(numpyarray, cv2.IMREAD_UNCHANGED)\n",
    "                HH, WW = img.shape[:2]\n",
    "\n",
    "                img=img[0:HH,0:StrCord]\n",
    "                cv2.imshow(\"Start\",img)\n",
    "                cv2.waitKey(0)\n",
    "                cv2.imwrite(Position+'\\\\Image'+str(SubCount)+'.png', img)\n",
    "                Count=Count+1\n",
    "                SubCount=SubCount+1\n",
    "                \n",
    "            if (Page>StrPage) and (Page<EndPage):\n",
    "                stream = open(save_path+\"//Image\"+str(Count)+\".png\", \"rb\")\n",
    "                bytes = bytearray(stream.read())\n",
    "                numpyarray = np.asarray(bytes, dtype=np.uint8)\n",
    "                img = cv2.imdecode(numpyarray, cv2.IMREAD_UNCHANGED)\n",
    "                \n",
    "                HH, WW = img.shape[:2]\n",
    "                img=img[0:HH,0:WW]\n",
    "                cv2.imshow(\"Middle\",img)\n",
    "                cv2.waitKey(0)\n",
    "                cv2.imwrite(Position+'\\\\Image'+str(SubCount)+'.png', img)\n",
    "                SubCount=SubCount+1\n",
    "                \n",
    "            if (Page==EndPage):\n",
    "                stream = open(save_path+\"//Image\"+str(Count)+\".png\", \"rb\")\n",
    "                bytes = bytearray(stream.read())\n",
    "                numpyarray = np.asarray(bytes, dtype=np.uint8)\n",
    "                img = cv2.imdecode(numpyarray, cv2.IMREAD_UNCHANGED)\n",
    "\n",
    "                HH, WW = img.shape[:2]\n",
    "                img=img[0:HH,0:WW]\n",
    "                cv2.imshow(\"End\",img)\n",
    "                cv2.waitKey(0)\n",
    "                cv2.imwrite(Position+'\\\\Image'+str(SubCount)+'.png', img)"
   ]
  },
  {
   "cell_type": "code",
   "execution_count": 46,
   "id": "755b0c30",
   "metadata": {},
   "outputs": [
    {
     "name": "stdout",
     "output_type": "stream",
     "text": [
      "Manager\n",
      "One Page\n",
      "Leader\n",
      "Multiple Page\n",
      "Admin\n",
      "One Page\n",
      "Outsource\n",
      "Multiple Page\n"
     ]
    }
   ],
   "source": [
    "for n in range(1,len(df)+1): \n",
    "    Row  = df.iloc[n]\n",
    "    Dept=Row['Dept']\n",
    "    Office=Row['Office']\n",
    "    Info=dta[str(Year)][Dept][Office]\n",
    "    PageList=Info['Page_Range']\n",
    "    if PageList=='NA':\n",
    "        continue\n",
    "    try:\n",
    "        PosiList=list(Info['Position'].keys())\n",
    "    except:\n",
    "        continue\n",
    "    \n",
    "    save_path='C:\\\\Users\\\\Keitaro Ninomiya\\\\Box\\\\Research Notes (keitaro2@illinois.edu)\\\\Tokyo_Jobs\\\\Raw_Data\\\\Office_Level\\\\'+str(Year)+'\\\\'+Dept+'\\\\'+Office+'\\\\'\n",
    "    os.chdir(save_path)\n",
    "    \n",
    "    Count=1\n",
    "    for Position in PosiList:\n",
    "        print(Position)\n",
    "        StrPage=int(dta[Year][Dept][Office]['Position'][Position]['Page'])\n",
    "        StrCord=int(dta[Year][Dept][Office]['Position'][Position]['XLocation'])\n",
    "        EndPage=int(dta[Year][Dept][Office]['Position'][Position]['EndPage'])\n",
    "        EndCord=int(dta[Year][Dept][Office]['Position'][Position]['EndLocation'])\n",
    "        if 'NA' in list((StrPage,StrCord,EndPage,EndCord)):\n",
    "            continue\n",
    "    \n",
    "        print()\n",
    "        print(\"Start Page is \"+str(StrPage))\n",
    "        print(\"End Page is \"+str(EndPage))\n",
    "\n",
    "        if StrPage==EndPage:\n",
    "            if StrCord<EndCord:\n",
    "                print('Error! Coordinate size is reversed for '+Office+' of '+Dept)\n",
    "                continue\n",
    "            print(\"One Page\")\n",
    "            stream = open(save_path+\"//Image\"+str(Count)+\".png\", \"rb\")\n",
    "            bytes = bytearray(stream.read())\n",
    "            numpyarray = np.asarray(bytes, dtype=np.uint8)\n",
    "            img = cv2.imdecode(numpyarray, cv2.IMREAD_UNCHANGED)\n",
    "\n",
    "            HH, WW = img.shape[:2]\n",
    "            print(EndCord,StrCord)\n",
    "            img=img[0:HH,EndCord:StrCord]\n",
    "            cv2.imwrite(Position+'\\\\Image'+str(1)+'.png', img)\n",
    "\n",
    "        else:\n",
    "            for Page in range(StrPage,EndPage):\n",
    "                print(\"Multiple Page\")\n",
    "                if Page==StrPage:\n",
    "                    SubCount=1\n",
    "                    stream = open(save_path+\"//Image\"+str(Count)+\".png\", \"rb\")\n",
    "                    bytes = bytearray(stream.read())\n",
    "                    numpyarray = np.asarray(bytes, dtype=np.uint8)\n",
    "                    img = cv2.imdecode(numpyarray, cv2.IMREAD_UNCHANGED)\n",
    "                    HH, WW = img.shape[:2]\n",
    "\n",
    "                    img=img[0:HH,0:StrCord]\n",
    "                    cv2.imwrite(Position+'\\\\Image'+str(SubCount)+'.png', img)\n",
    "                    Count=Count+1\n",
    "                    SubCount=SubCount+1\n",
    "\n",
    "                if (Page>StrPage) and (Page<EndPage):\n",
    "                    stream = open(save_path+\"//Image\"+str(Count)+\".png\", \"rb\")\n",
    "                    bytes = bytearray(stream.read())\n",
    "                    numpyarray = np.asarray(bytes, dtype=np.uint8)\n",
    "                    img = cv2.imdecode(numpyarray, cv2.IMREAD_UNCHANGED)\n",
    "\n",
    "                    HH, WW = img.shape[:2]\n",
    "                    img=img[0:HH,0:WW]\n",
    "                    cv2.imwrite(Position+'\\\\Image'+str(SubCount)+'.png', img)\n",
    "                    SubCount=SubCount+1\n",
    "\n",
    "                if (Page==EndPage):\n",
    "                    stream = open(save_path+\"//Image\"+str(Count)+\".png\", \"rb\")\n",
    "                    bytes = bytearray(stream.read())\n",
    "                    numpyarray = np.asarray(bytes, dtype=np.uint8)\n",
    "                    img = cv2.imdecode(numpyarray, cv2.IMREAD_UNCHANGED)\n",
    "\n",
    "                    HH, WW = img.shape[:2]\n",
    "                    img=img[0:HH,0:WW]\n",
    "                    cv2.imwrite(Position+'\\\\Image'+str(SubCount)+'.png', img)"
   ]
  },
  {
   "cell_type": "code",
   "execution_count": 44,
   "id": "75c6096c",
   "metadata": {},
   "outputs": [
    {
     "name": "stdout",
     "output_type": "stream",
     "text": [
      "439 100\n"
     ]
    }
   ],
   "source": [
    "print(EndCord,WW)"
   ]
  }
 ],
 "metadata": {
  "kernelspec": {
   "display_name": "Python 3 (ipykernel)",
   "language": "python",
   "name": "python3"
  },
  "language_info": {
   "codemirror_mode": {
    "name": "ipython",
    "version": 3
   },
   "file_extension": ".py",
   "mimetype": "text/x-python",
   "name": "python",
   "nbconvert_exporter": "python",
   "pygments_lexer": "ipython3",
   "version": "3.9.13"
  }
 },
 "nbformat": 4,
 "nbformat_minor": 5
}
