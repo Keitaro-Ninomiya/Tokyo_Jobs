{
 "cells": [
  {
   "cell_type": "code",
   "execution_count": 11,
   "id": "fe7ab423-b602-46e2-8969-1d82e2d4e4c9",
   "metadata": {},
   "outputs": [],
   "source": [
    "import json\n",
    "import os\n",
    "import pandas as pd\n",
    "import numpy as np\n",
    "import cv2\n",
    "\n",
    "Year='1938'\n",
    "Showa='13'"
   ]
  },
  {
   "cell_type": "code",
   "execution_count": 12,
   "id": "dc47c864-f9a7-415a-a157-4e82933a3bd9",
   "metadata": {},
   "outputs": [],
   "source": [
    "file_path='C:\\\\Users\\\\Keitaro Ninomiya\\\\Box\\\\Research Notes (keitaro2@illinois.edu)\\\\Tokyo_Jobs\\\\Processed_Data\\\\'+Year+'\\\\DataFrame.json'\n",
    "with open(file_path, encoding=\"utf-8\") as f:\n",
    "    dta = json.loads(f.read())\n",
    "\n",
    "df = pd.read_csv(r'C:/Users/Keitaro Ninomiya/Box/Research Notes (keitaro2@illinois.edu)/Tokyo_Jobs/Processed_Data/Index/S'+Showa+'.csv')\n",
    "df=df.drop(df.columns[0], axis=1)"
   ]
  },
  {
   "cell_type": "code",
   "execution_count": 13,
   "id": "3b16f3eb-39b2-499d-9dbb-538992340159",
   "metadata": {},
   "outputs": [
    {
     "name": "stdout",
     "output_type": "stream",
     "text": [
      "{'Starting_Page': 2, 'Office_X1': 480, 'Ending_Page': 2, 'Office_X2': 178, 'Page_Range': [2], 'Units': {'議事掛': {'Page': 1, 'StartLocation': 245}, 'List': ['議事掛']}}\n",
      "['議事掛']\n"
     ]
    }
   ],
   "source": [
    "n=0\n",
    "Row  = df.iloc[n]\n",
    "Dept=Row['Dept']\n",
    "Office=Row['Office']\n",
    "Info=dta[str(Year)][Dept][Office]\n",
    "print(Info)\n",
    "UnitList=list(Info['Units']['List'])\n",
    "print(UnitList)"
   ]
  },
  {
   "cell_type": "code",
   "execution_count": null,
   "id": "c2288a2b-6c2a-4aff-93a8-31e93ff0a791",
   "metadata": {},
   "outputs": [],
   "source": []
  },
  {
   "cell_type": "code",
   "execution_count": null,
   "id": "01dbf124-1fe3-42a4-8dd0-8b87c0a43f49",
   "metadata": {},
   "outputs": [],
   "source": [
    "for n in range(1,len(df)+1): \n",
    "    Row  = df.iloc[n]\n",
    "    Dept=Row['Dept']\n",
    "    Office=Row['Office']\n",
    "    Info=dta[str(Year)][Dept][Office]\n",
    "    PageList=list(Info['Page_Range'])\n",
    "    if PageList=='NA':\n",
    "        continue\n",
    "    try:\n",
    "        UnitList=list(Info['Units']['List'])\n",
    "    except:\n",
    "        continue\n",
    "    \n",
    "    save_path='C:\\\\Users\\\\Keitaro Ninomiya\\\\Box\\\\Research Notes (keitaro2@illinois.edu)\\\\Tokyo_Jobs\\\\Raw_Data\\\\Office_Level\\\\'+str(Year)+'\\\\'+Dept+'\\\\'+Office+'\\\\'\n",
    "    os.chdir(save_path)\n",
    "    \n",
    "    Count=1\n",
    "    for Unit in UnitList:\n",
    "        print(Unit)\n",
    "        StrPage=int(dta[Year][Dept][Office]['Units'][Unit]['Page'])\n",
    "        StrCord=int(dta[Year][Dept][Office]['Units'][Unit]['XLocation'])\n",
    "        EndPage=int(dta[Year][Dept][Office]['Units'][Unit]['EndPage'])\n",
    "        EndCord=int(dta[Year][Dept][Office]['Units'][Unit]['EndLocation'])\n",
    "        if 'NA' in list((StrPage,StrCord,EndPage,EndCord)):\n",
    "            continue\n",
    "    \n",
    "        print()\n",
    "        print(\"Start Page is \"+str(StrPage))\n",
    "        print(\"End Page is \"+str(EndPage))\n",
    "\n",
    "        if StrPage==EndPage:\n",
    "            if StrCord<EndCord:\n",
    "                print('Error! Coordinate size is reversed for '+Office+' of '+Dept)\n",
    "                continue\n",
    "            print(\"One Page\")\n",
    "            stream = open(save_path+\"//Image\"+str(Count)+\".png\", \"rb\")\n",
    "            bytes = bytearray(stream.read())\n",
    "            numpyarray = np.asarray(bytes, dtype=np.uint8)\n",
    "            img = cv2.imdecode(numpyarray, cv2.IMREAD_UNCHANGED)\n",
    "\n",
    "            HH, WW = img.shape[:2]\n",
    "            print(EndCord,StrCord)\n",
    "            img=img[0:HH,EndCord:StrCord]\n",
    "            cv2.imwrite(Position+'\\\\Image'+str(1)+'.png', img)\n",
    "\n",
    "        else:\n",
    "            for Page in range(StrPage,EndPage):\n",
    "                print(\"Multiple Page\")\n",
    "                if Page==StrPage:\n",
    "                    SubCount=1\n",
    "                    stream = open(save_path+\"//Image\"+str(Count)+\".png\", \"rb\")\n",
    "                    bytes = bytearray(stream.read())\n",
    "                    numpyarray = np.asarray(bytes, dtype=np.uint8)\n",
    "                    img = cv2.imdecode(numpyarray, cv2.IMREAD_UNCHANGED)\n",
    "                    HH, WW = img.shape[:2]\n",
    "\n",
    "                    img=img[0:HH,0:StrCord]\n",
    "                    cv2.imwrite(Position+'\\\\Image'+str(SubCount)+'.png', img)\n",
    "                    Count=Count+1\n",
    "                    SubCount=SubCount+1\n",
    "\n",
    "                if (Page>StrPage) and (Page<EndPage):\n",
    "                    stream = open(save_path+\"//Image\"+str(Count)+\".png\", \"rb\")\n",
    "                    bytes = bytearray(stream.read())\n",
    "                    numpyarray = np.asarray(bytes, dtype=np.uint8)\n",
    "                    img = cv2.imdecode(numpyarray, cv2.IMREAD_UNCHANGED)\n",
    "\n",
    "                    HH, WW = img.shape[:2]\n",
    "                    img=img[0:HH,0:WW]\n",
    "                    cv2.imwrite(Position+'\\\\Image'+str(SubCount)+'.png', img)\n",
    "                    SubCount=SubCount+1\n",
    "\n",
    "                if (Page==EndPage):\n",
    "                    stream = open(save_path+\"//Image\"+str(Count)+\".png\", \"rb\")\n",
    "                    bytes = bytearray(stream.read())\n",
    "                    numpyarray = np.asarray(bytes, dtype=np.uint8)\n",
    "                    img = cv2.imdecode(numpyarray, cv2.IMREAD_UNCHANGED)\n",
    "\n",
    "                    HH, WW = img.shape[:2]\n",
    "                    img=img[0:HH,0:WW]\n",
    "                    cv2.imwrite(Position+'\\\\Image'+str(SubCount)+'.png', img)"
   ]
  }
 ],
 "metadata": {
  "kernelspec": {
   "display_name": "Python 3 (ipykernel)",
   "language": "python",
   "name": "python3"
  },
  "language_info": {
   "codemirror_mode": {
    "name": "ipython",
    "version": 3
   },
   "file_extension": ".py",
   "mimetype": "text/x-python",
   "name": "python",
   "nbconvert_exporter": "python",
   "pygments_lexer": "ipython3",
   "version": "3.9.13"
  }
 },
 "nbformat": 4,
 "nbformat_minor": 5
}
