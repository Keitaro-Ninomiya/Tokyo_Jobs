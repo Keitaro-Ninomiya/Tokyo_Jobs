{
 "cells": [
  {
   "cell_type": "raw",
   "metadata": {},
   "source": [
    "This code detects the location of starting point of an office;\n",
    "\n",
    "Input: List of offices + Images of corresponding offices \n",
    "\n",
    "=> Output: List of offices with coordinate information"
   ]
  },
  {
   "cell_type": "code",
   "execution_count": 1,
   "metadata": {},
   "outputs": [],
   "source": [
    "import pandas as pd\n",
    "import os\n",
    "import cv2\n",
    "import numpy as np\n",
    "import json"
   ]
  },
  {
   "cell_type": "code",
   "execution_count": 2,
   "metadata": {},
   "outputs": [],
   "source": [
    "### CLOVA FUNCTION ###\n",
    "def Clova(img):\n",
    "    return json"
   ]
  },
  {
   "cell_type": "code",
   "execution_count": 4,
   "metadata": {},
   "outputs": [],
   "source": [
    "# Function for returning x coordinate of Office name\n",
    "def Detect_Office(Json,Office):\n",
    "    List=Json['images'][0][\"fields\"]\n",
    "    ### Get Coordinates ###\n",
    "    res = [d\n",
    "       for d in List \n",
    "       if d['inferText'] == Office]\n",
    "    res = res[0]['boundingPoly']['vertices']\n",
    "    Edge=max([i['x'] for i in res])\n",
    "    \n",
    "    return(Edge)\n",
    "\n",
    "# Function for returning x coordinate of Unit name\n",
    "def Detect_Unit(img):\n",
    "    HH, WW = img.shape[:2]\n",
    "    cropped_img=img[0:HH//2,0::WW]\n",
    "    ### Get Coordinates ###\n",
    "    res = [d\n",
    "       for d in List \n",
    "       if '掛' in d['inferText']]\n",
    "    res = res[0]['boundingPoly']['vertices']\n",
    "    Edge=max([i['x'] for i in res])\n",
    "    return(Edge)\n",
    "\n"
   ]
  },
  {
   "cell_type": "code",
   "execution_count": 2,
   "metadata": {},
   "outputs": [
    {
     "ename": "NameError",
     "evalue": "name 'Clova' is not defined",
     "output_type": "error",
     "traceback": [
      "\u001b[1;31m---------------------------------------------------------------------------\u001b[0m",
      "\u001b[1;31mNameError\u001b[0m                                 Traceback (most recent call last)",
      "\u001b[1;32mC:\\Temp\\ipykernel_18644\\2179051172.py\u001b[0m in \u001b[0;36m<module>\u001b[1;34m\u001b[0m\n\u001b[0;32m     10\u001b[0m \u001b[1;33m\u001b[0m\u001b[0m\n\u001b[0;32m     11\u001b[0m     \u001b[0mimg\u001b[0m\u001b[1;33m=\u001b[0m\u001b[0mcv2\u001b[0m\u001b[1;33m.\u001b[0m\u001b[0mimread\u001b[0m\u001b[1;33m(\u001b[0m\u001b[1;34m\"Page\"\u001b[0m\u001b[1;33m+\u001b[0m\u001b[1;34m\"{:03d}\"\u001b[0m\u001b[1;33m.\u001b[0m\u001b[0mformat\u001b[0m\u001b[1;33m(\u001b[0m\u001b[0mPage\u001b[0m\u001b[1;33m)\u001b[0m\u001b[1;33m+\u001b[0m\u001b[1;34m\"\\\\\"\u001b[0m\u001b[1;33m+\u001b[0m\u001b[1;34m\"Page\"\u001b[0m\u001b[1;33m+\u001b[0m\u001b[1;34m\"{:03d}\"\u001b[0m\u001b[1;33m.\u001b[0m\u001b[0mformat\u001b[0m\u001b[1;33m(\u001b[0m\u001b[0mPage\u001b[0m\u001b[1;33m)\u001b[0m\u001b[1;33m+\u001b[0m\u001b[1;34m\".jpg\"\u001b[0m\u001b[1;33m)\u001b[0m\u001b[1;33m\u001b[0m\u001b[1;33m\u001b[0m\u001b[0m\n\u001b[1;32m---> 12\u001b[1;33m     \u001b[0mJson\u001b[0m\u001b[1;33m=\u001b[0m\u001b[0mClova\u001b[0m\u001b[1;33m(\u001b[0m\u001b[0mimg\u001b[0m\u001b[1;33m)\u001b[0m\u001b[1;33m\u001b[0m\u001b[1;33m\u001b[0m\u001b[0m\n\u001b[0m\u001b[0;32m     13\u001b[0m \u001b[1;33m\u001b[0m\u001b[0m\n\u001b[0;32m     14\u001b[0m     \u001b[0mXCoord_Unit\u001b[0m\u001b[1;33m=\u001b[0m\u001b[0mDetect_Office\u001b[0m\u001b[1;33m(\u001b[0m\u001b[0mJson\u001b[0m\u001b[1;33m,\u001b[0m\u001b[0mOffice\u001b[0m\u001b[1;33m)\u001b[0m\u001b[1;33m\u001b[0m\u001b[1;33m\u001b[0m\u001b[0m\n",
      "\u001b[1;31mNameError\u001b[0m: name 'Clova' is not defined"
     ]
    }
   ],
   "source": [
    "#Create Mother dataframe\n",
    "dta={}\n",
    "\n",
    "#Load list\n",
    "Year=\n",
    "Showa=\n",
    "path=\"C:\\\\Users\\\\Keitaro Ninomiya\\\\Box\\\\Research Notes (keitaro2@illinois.edu)\\\\Tokyo_Jobs\\\\Raw_Data\\\\Splited\\\\\"+Year+\"\\\\\"\n",
    "os.chdir(path)\n",
    "df = pd.read_csv(r'C:/Users/Keitaro Ninomiya/Box/Research Notes (keitaro2@illinois.edu)/Tokyo_Jobs/Processed_Data/Index/S'+Showa+'.csv')\n",
    "df=df.drop(df.columns[0], axis=1)\n",
    "\n",
    "#Find coordinate of Office\n",
    "for n in range(1,len(df[\"Office\"])):\n",
    "    #Extract key info of office\n",
    "    Row = df.iloc[n]\n",
    "    \n",
    "    #Decompose info into elements\n",
    "    Year=Row[\"Year\"]\n",
    "    Page=Row[\"Page\"]\n",
    "    Office=Row[\"Office\"]\n",
    "    \n",
    "    ##Read image for first page##\n",
    "    img=cv2.imread(\"Page\"+\"{:03d}\".format(Page)+\"\\\\\"+\"Page\"+\"{:03d}\".format(Page)+\".jpg\")\n",
    "    #Convert to json via CLOVA\n",
    "    Json=Clova(img)\n",
    "    \n",
    "    #Find X coordinate of 'Office'.\n",
    "    XCoord_Unit=Detect_Office(Json,Office)\n",
    "    #Add to row data\n",
    "    Row[\"Office_X\"]=Coord_Office\n",
    "    \n",
    "    #Insert to mother frame\n",
    "    dta[Showa][Dept][Office][Page]['Starting_Point']=Coord_Office\n"
   ]
  },
  {
   "cell_type": "code",
   "execution_count": 94,
   "metadata": {},
   "outputs": [
    {
     "data": {
      "text/html": [
       "<div>\n",
       "<style scoped>\n",
       "    .dataframe tbody tr th:only-of-type {\n",
       "        vertical-align: middle;\n",
       "    }\n",
       "\n",
       "    .dataframe tbody tr th {\n",
       "        vertical-align: top;\n",
       "    }\n",
       "\n",
       "    .dataframe thead th {\n",
       "        text-align: right;\n",
       "    }\n",
       "</style>\n",
       "<table border=\"1\" class=\"dataframe\">\n",
       "  <thead>\n",
       "    <tr style=\"text-align: right;\">\n",
       "      <th></th>\n",
       "      <th>0</th>\n",
       "      <th>1</th>\n",
       "      <th>2</th>\n",
       "      <th>Office_X</th>\n",
       "    </tr>\n",
       "  </thead>\n",
       "  <tbody>\n",
       "    <tr>\n",
       "      <th>0</th>\n",
       "      <td>1938</td>\n",
       "      <td>51</td>\n",
       "      <td>商工相談所</td>\n",
       "      <td>466.0</td>\n",
       "    </tr>\n",
       "  </tbody>\n",
       "</table>\n",
       "</div>"
      ],
      "text/plain": [
       "      0   1      2  Office_X\n",
       "0  1938  51  商工相談所     466.0"
      ]
     },
     "execution_count": 94,
     "metadata": {},
     "output_type": "execute_result"
    }
   ],
   "source": [
    "#Test code#\n",
    "path=\"C:\\\\Users\\\\Keitaro Ninomiya\\\\Box\\\\Research Notes (keitaro2@illinois.edu)\\\\Tokyo_Jobs\\\\Raw_Data\\\\Splited\\\\1938\\\\\"\n",
    "os.chdir(path)\n",
    "df = pd.read_csv(r'C:/Users/Keitaro Ninomiya/Box/Research Notes (keitaro2@illinois.edu)/Tokyo_Jobs/Processed_Data/Index/S12.csv')\n",
    "df=df.drop(df.columns[0], axis=1)\n",
    "\n",
    "Year='1938'\n",
    "Page=51\n",
    "Office='商工相談所'\n",
    "Row = pd.DataFrame(list((Year,Page,Office))).T\n",
    "\n",
    "img=cv2.imread(\"Page\"+\"{:03d}\".format(Page)+\"\\\\\"+\"Page\"+\"{:03d}\".format(Page)+\".jpg\")\n",
    "file_path='C:/Users/Keitaro Ninomiya/Desktop/[Test_3]TextOCR[20230216213014].json'\n",
    "with open(file_path, encoding=\"utf-8\") as f:\n",
    "    data = json.loads(f.read())\n",
    "\n",
    "Coord_Office=Detect_Office(data,Office)\n",
    "Row[\"Starting_Point\"]=Coord_Office\n",
    "Row\n",
    "#Multiple units might exist in page."
   ]
  }
 ],
 "metadata": {
  "kernelspec": {
   "display_name": "Python 3",
   "language": "python",
   "name": "python3"
  },
  "language_info": {
   "codemirror_mode": {
    "name": "ipython",
    "version": 3
   },
   "file_extension": ".py",
   "mimetype": "text/x-python",
   "name": "python",
   "nbconvert_exporter": "python",
   "pygments_lexer": "ipython3",
   "version": "3.7.4"
  }
 },
 "nbformat": 4,
 "nbformat_minor": 5
}
