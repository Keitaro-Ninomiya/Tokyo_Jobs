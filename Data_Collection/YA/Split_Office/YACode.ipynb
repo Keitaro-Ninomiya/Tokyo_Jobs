{
 "cells": [
  {
   "cell_type": "raw",
   "metadata": {},
   "source": [
    "This code detects the location of starting point of an office;\n",
    "\n",
    "Input: List of offices + Corresponding offices \n",
    "\n",
    "=> Output: List of offices with coordinate information"
   ]
  },
  {
   "cell_type": "code",
   "execution_count": 5,
   "metadata": {},
   "outputs": [],
   "source": [
    "import pandas as pd\n",
    "import os\n",
    "import cv2\n",
    "import numpy as np\n",
    "import json"
   ]
  },
  {
   "cell_type": "code",
   "execution_count": 125,
   "metadata": {},
   "outputs": [],
   "source": [
    "def Detect_Office(Json,Office):\n",
    "\n",
    "    NewList=Json['fields']\n",
    "    Dict=list()\n",
    "    for d in NewList:\n",
    "        try:\n",
    "            newDict={}\n",
    "            newDict['inferText']=d['inferText']\n",
    "            newDict['boundingPoly']=d['boundingPoly']\n",
    "            Dict.append(newDict)\n",
    "        except KeyError:\n",
    "            continue\n",
    "\n",
    "    res = [d\n",
    "       for d in Dict \n",
    "       if (Office[0] == d['inferText']) or (Office == d['inferText']) or (Office[-2:][0] == d['inferText'])]\n",
    "\n",
    "    if len(res)!=0:\n",
    "        res = res[0]['boundingPoly']['vertices']\n",
    "        Edge=max(int(d['x']) for d in res)\n",
    "        return(Edge)\n",
    "    else:\n",
    "        return(None)\n",
    "\n",
    "class NpEncoder(json.JSONEncoder):\n",
    "    def default(self, obj):\n",
    "        if isinstance(obj, np.integer):\n",
    "            return int(obj)\n",
    "        if isinstance(obj, np.floating):\n",
    "            return float(obj)\n",
    "        if isinstance(obj, np.ndarray):\n",
    "            return obj.tolist()\n",
    "        return super(NpEncoder, self).default(obj)\n",
    "\n",
    "### CLOVA FUNCTION ###\n",
    "import requests\n",
    "import uuid\n",
    "import time\n",
    "import json\n",
    "import cv2\n",
    "import base64\n",
    "\n",
    "api_url = 'https://deelieyxuc.apigw.ntruss.com/custom/v1/1972/ebd01bcbf693d069817622e9839e20914143c7d0d8953eddee40e8b0af96c95b/general'\n",
    "secret_key = 'S1NmVXpYZlJ0cGJ0ZEFRZXVlbkRkaHFReE9FcHNTQ0U='\n",
    "\n",
    "#ここ何やってるか知りたい↓ここで全てのページをいったん画像→OCRにしてる？\n",
    "def Clova(Year,Page):\n",
    "    path=\"C:\\\\Users\\\\Keitaro Ninomiya\\\\Box\\\\Research Notes (keitaro2@illinois.edu)\\\\Tokyo_Jobs\\\\Raw_Data\\\\Splited\\\\\"+Year+\"\\\\\"\n",
    "    with open(path+\"Page\"+\"{:03d}\".format(Page)+\"\\\\\"+\"Page\"+\"{:03d}\".format(Page)+\".jpg\",'rb') as f:\n",
    "         file_data = f.read()\n",
    "\n",
    "    request_json = {\n",
    "            'images': [\n",
    "                {\n",
    "                    'format': 'jpg',\n",
    "                    'name': 'demo',\n",
    "                    'data':base64.b64encode(file_data).decode()}],\n",
    "            'requestId': str(uuid.uuid4()),\n",
    "            'version': 'V2',\n",
    "            'timestamp': int(round(time.time() * 1000)),\n",
    "            'lang':'ja'\n",
    "            }\n",
    "    payload = json.dumps(request_json).encode(\"UTF-8\")\n",
    "    headers = {'X-OCR-SECRET': secret_key,\n",
    "              'Content-Type': 'application/json'}\n",
    "    response = requests.request(\"POST\", api_url, headers=headers, data = payload)\n",
    "    Json=json.loads(response.text)['images'][0]\n",
    "    \n",
    "    return Json"
   ]
  },
  {
   "cell_type": "code",
   "execution_count": 7,
   "metadata": {},
   "outputs": [],
   "source": [
    "#Research Notes (keitaro2@illinois.edu)ないけど、どんなファイル入ってる?\n",
    "#json.loadsがOCRで読みだすやつってこと？\n",
    "\n",
    "Year='1934'\n",
    "Showa='9'\n",
    "path=\"C:\\\\Users\\\\Keitaro Ninomiya\\\\Box\\\\Research Notes (keitaro2@illinois.edu)\\\\Tokyo_Jobs\\\\Raw_Data\\\\Splited\\\\\"+Year+\"\\\\\"\n",
    "os.chdir(path)\n",
    "df = pd.read_csv('C:/Users/Keitaro Ninomiya/Box/Research Notes (keitaro2@illinois.edu)/Tokyo_Jobs/Processed_Data/Index/S'+Showa+'.csv')\n",
    "df=df.drop(df.columns[0], axis=1)\n",
    "\n",
    "#file_pathで\n",
    "file_path='C:\\\\Users\\\\Keitaro Ninomiya\\\\Box\\\\Research Notes (keitaro2@illinois.edu)\\\\Tokyo_Jobs\\\\Processed_Data\\\\DataFrame.json'\n",
    "with open(file_path, encoding=\"utf-8\") as f:\n",
    "    dta = json.loads(f.read())"
   ]
  },
  {
   "cell_type": "code",
   "execution_count": 8,
   "metadata": {},
   "outputs": [
    {
     "data": {
      "text/plain": [
       "{'1934': {'Admin': {'文書課': {'Starting_Page': 3,\n",
       "    'Office_X1': 292,\n",
       "    'Ending_Page': 5,\n",
       "    'Office_X2': 439,\n",
       "    'Page_Range': [3, 4, 5],\n",
       "    'Position': {'Manager': {'XLocation': 261,\n",
       "      'Page': 3,\n",
       "      'EndLocation': 230.0,\n",
       "      'EndPage': 3.0},\n",
       "     'Leader': {'XLocation': 230,\n",
       "      'Page': 3,\n",
       "      'EndLocation': 469.0,\n",
       "      'EndPage': 4.0},\n",
       "     'Admin': {'XLocation': 469,\n",
       "      'Page': 4,\n",
       "      'EndLocation': 302.0,\n",
       "      'EndPage': 4.0,\n",
       "      'Data': [{'Name': '淺野元三郎', 'Wage': '幸'},\n",
       "       {'Name': '五人店TE', 'Wage': '月七'},\n",
       "       {'Name': '小川有道', 'Wage': '𠮷'},\n",
       "       {'Name': '志賀漆', 'Wage': 'お'},\n",
       "       {'Name': '京山重長', 'Wage': '1'},\n",
       "       {'Name': '天主任人江博房', 'Wage': '万九和'},\n",
       "       {'Name': '各个長下條装', 'Wage': 'カト'},\n",
       "       {'Name': '和久田賞', 'Wage': '上'},\n",
       "       {'Name': '木村五', 'Wage': 'あや'},\n",
       "       {'Name': '長坂番', 'Wage': '幸'},\n",
       "       {'Name': '宮尾D20', 'Wage': '吉'},\n",
       "       {'Name': '正版 松留', 'Wage': '七七'},\n",
       "       {'Name': '鍜田國信', 'Wage': '七上'},\n",
       "       {'Name': '部見安二郎', 'Wage': 'ス'},\n",
       "       {'Name': '高畑稔', 'Wage': '奉'},\n",
       "       {'Name': '長友英太郎', 'Wage': '円1'},\n",
       "       {'Name': '荒井千', 'Wage': '六上'},\n",
       "       {'Name': 'M成七七郎', 'Wage': '大'}]},\n",
       "     'Outsource': {'XLocation': 302,\n",
       "      'Page': 4,\n",
       "      'EndLocation': 439.0,\n",
       "      'EndPage': 5.0}}},\n",
       "   '職員課': {'Starting_Page': 2,\n",
       "    'Ending_Page': 3,\n",
       "    'Office_X2': 302,\n",
       "    'Page_Range': [2, 3]},\n",
       "   '庶務課': {'Ending_Page': 5, 'Office_X2': 160, 'Page_Range': [5]},\n",
       "   '監察課': {'Starting_Page': 5, 'Office_X1': 150}},\n",
       "  '中央卸売市場': {},\n",
       "  '保健局': {},\n",
       "  '土木局': {},\n",
       "  '教育局': {},\n",
       "  '水道局': {},\n",
       "  '港湾部（S8.11.1）': {},\n",
       "  '産業局': {},\n",
       "  '監査局': {'庶務課': {'Starting_Page': 5, 'Office_X1': 429},\n",
       "   '監察課': {'Starting_Page': 5, 'Office_X1': 150}},\n",
       "  '社会局': {},\n",
       "  '財務局': {},\n",
       "  '電気局(S8.11.6)': {},\n",
       "  '電気研究所（S8.11.18）': {}}}"
      ]
     },
     "execution_count": 8,
     "metadata": {},
     "output_type": "execute_result"
    }
   ],
   "source": [
    "dta"
   ]
  },
  {
   "cell_type": "code",
   "execution_count": 9,
   "metadata": {},
   "outputs": [
    {
     "data": {
      "text/plain": [
       "(Office      文書課\n",
       " Dept      Admin\n",
       " Year          9\n",
       " Page          3\n",
       " Name: 2, dtype: object,\n",
       " Office      職員課\n",
       " Dept      Admin\n",
       " Year          9\n",
       " Page          2\n",
       " Name: 1, dtype: object)"
      ]
     },
     "execution_count": 9,
     "metadata": {},
     "output_type": "execute_result"
    }
   ],
   "source": [
    "#Test code| Version 2#\n",
    "#Show Working office#\n",
    "n=2\n",
    "\n",
    "#Extract key info of office\n",
    "Row  = df.iloc[n]\n",
    "ExRow= df.iloc[n-1]\n",
    "Row,ExRow"
   ]
  },
  {
   "cell_type": "code",
   "execution_count": 10,
   "metadata": {},
   "outputs": [],
   "source": [
    "#\n",
    "Showa=ExRow[\"Year\"]\n",
    "\n",
    "Page=Row[\"Page\"]\n",
    "ExPage=ExRow[\"Page\"]\n",
    "\n",
    "Dept=Row[\"Dept\"]\n",
    "ExDept=ExRow[\"Dept\"]\n",
    "\n",
    "Office=Row[\"Office\"]\n",
    "ExOffice=ExRow[\"Office\"]\n",
    "\n",
    "dta[str(Year)][Dept][Office]={}\n",
    "dta[str(Year)][ExDept][ExOffice]={}\n",
    "dta[str(Year)][ExDept][ExOffice][\"Starting_Page\"]=ExPage"
   ]
  },
  {
   "cell_type": "code",
   "execution_count": 11,
   "metadata": {},
   "outputs": [
    {
     "name": "stdout",
     "output_type": "stream",
     "text": [
      "文書課\n",
      "{'1934': {'Admin': {'文書課': {'Starting_Page': 3}, '職員課': {'Starting_Page': 2}, '庶務課': {'Ending_Page': 5, 'Office_X2': 160, 'Page_Range': [5]}, '監察課': {'Starting_Page': 5, 'Office_X1': 150}}, '中央卸売市場': {}, '保健局': {}, '土木局': {}, '教育局': {}, '水道局': {}, '港湾部（S8.11.1）': {}, '産業局': {}, '監査局': {'庶務課': {'Starting_Page': 5, 'Office_X1': 429}, '監察課': {'Starting_Page': 5, 'Office_X1': 150}}, '社会局': {}, '財務局': {}, '電気局(S8.11.6)': {}, '電気研究所（S8.11.18）': {}}}\n"
     ]
    },
    {
     "data": {
      "text/plain": [
       "{'文書課': {'Starting_Page': 3, 'Office_X1': 292},\n",
       " '職員課': {'Starting_Page': 2,\n",
       "  'Ending_Page': 3,\n",
       "  'Office_X2': 302,\n",
       "  'Page_Range': [2, 3]},\n",
       " '庶務課': {'Ending_Page': 5, 'Office_X2': 160, 'Page_Range': [5]},\n",
       " '監察課': {'Starting_Page': 5, 'Office_X1': 150}}"
      ]
     },
     "execution_count": 11,
     "metadata": {},
     "output_type": "execute_result"
    }
   ],
   "source": [
    "#Test code| Version 2#\n",
    "#Decompose info into elements\n",
    "Page=int(Row[\"Page\"])\n",
    "Office=Row[\"Office\"]\n",
    "print(Office)\n",
    "ExPage=int(ExRow[\"Page\"])\n",
    "ExOffice=ExRow[\"Office\"]\n",
    "\n",
    "\n",
    "###Insert Starting page information to motherframe###\n",
    "dta[Year][Dept][Office]={}\n",
    "dta[Year][Dept][Office][\"Starting_Page\"]=Page\n",
    "print(dta)\n",
    "\n",
    "###Collect Location information###\n",
    "##Read image for first page##\n",
    "img=cv2.imread(\"Page\"+\"{:03d}\".format(Page)+\"\\\\\"+\"Page\"+\"{:03d}\".format(Page)+\".jpg\")\n",
    "#Convert to json via CLOVA\n",
    "Json=Clova(Year,Page)\n",
    "\n",
    "#Find X coordinate of 'Office'.\n",
    "XCoord_Unit=Detect_Office(Json,Office)\n",
    "#Add to motherframe\n",
    "dta[str(Year)][Dept][Office][\"Office_X1\"]=XCoord_Unit\n",
    "dta[str(Year)][ExDept][ExOffice][\"Ending_Page\"]=Page\n",
    "dta[str(Year)][ExDept][ExOffice][\"Office_X2\"]=XCoord_Unit+10\n",
    "dta[str(Year)][ExDept][ExOffice][\"Page_Range\"]=list(range(ExPage,Page+1))\n",
    "dta[str(Year)][Dept]"
   ]
  },
  {
   "cell_type": "code",
   "execution_count": 17,
   "metadata": {},
   "outputs": [
    {
     "data": {
      "text/plain": [
       "Office    庶務課\n",
       "Dept      監査局\n",
       "Year        9\n",
       "Page        5\n",
       "Name: 3, dtype: object"
      ]
     },
     "execution_count": 17,
     "metadata": {},
     "output_type": "execute_result"
    }
   ],
   "source": [
    "#Test code| Version 2#\n",
    "#Show Working office#\n",
    "n=3\n",
    "\n",
    "#Extract key info of office\n",
    "Row  = df.iloc[n]\n",
    "ExRow= df.iloc[n-1]\n",
    "Row"
   ]
  },
  {
   "cell_type": "code",
   "execution_count": 18,
   "metadata": {},
   "outputs": [
    {
     "name": "stdout",
     "output_type": "stream",
     "text": [
      "庶務課\n",
      "{'1934': {'Admin': {'文書課': {'Starting_Page': 3, 'Office_X1': 292, 'Ending_Page': 5, 'Office_X2': 439, 'Page_Range': [3, 4, 5]}, '職員課': {'Starting_Page': 2, 'Ending_Page': 3, 'Office_X2': 302, 'Page_Range': [2, 3]}, '庶務課': {'Ending_Page': 5, 'Office_X2': 160, 'Page_Range': [5]}, '監察課': {'Starting_Page': 5, 'Office_X1': 150}}, '中央卸売市場': {}, '保健局': {}, '土木局': {}, '教育局': {}, '水道局': {}, '港湾部（S8.11.1）': {}, '産業局': {}, '監査局': {'庶務課': {'Starting_Page': 5}, '監察課': {'Starting_Page': 5, 'Office_X1': 150}}, '社会局': {}, '財務局': {}, '電気局(S8.11.6)': {}, '電気研究所（S8.11.18）': {}}}\n"
     ]
    },
    {
     "data": {
      "text/plain": [
       "{'1934': {'Admin': {'文書課': {'Starting_Page': 3,\n",
       "    'Office_X1': 292,\n",
       "    'Ending_Page': 5,\n",
       "    'Office_X2': 439,\n",
       "    'Page_Range': [3, 4, 5]},\n",
       "   '職員課': {'Starting_Page': 2,\n",
       "    'Ending_Page': 3,\n",
       "    'Office_X2': 302,\n",
       "    'Page_Range': [2, 3]},\n",
       "   '庶務課': {'Ending_Page': 5, 'Office_X2': 160, 'Page_Range': [5]},\n",
       "   '監察課': {'Starting_Page': 5, 'Office_X1': 150}},\n",
       "  '中央卸売市場': {},\n",
       "  '保健局': {},\n",
       "  '土木局': {},\n",
       "  '教育局': {},\n",
       "  '水道局': {},\n",
       "  '港湾部（S8.11.1）': {},\n",
       "  '産業局': {},\n",
       "  '監査局': {'庶務課': {'Starting_Page': 5, 'Office_X1': 429},\n",
       "   '監察課': {'Starting_Page': 5, 'Office_X1': 150}},\n",
       "  '社会局': {},\n",
       "  '財務局': {},\n",
       "  '電気局(S8.11.6)': {},\n",
       "  '電気研究所（S8.11.18）': {}}}"
      ]
     },
     "execution_count": 18,
     "metadata": {},
     "output_type": "execute_result"
    }
   ],
   "source": [
    "Page=int(Row[\"Page\"])\n",
    "Dept=Row[\"Dept\"]\n",
    "Office=Row[\"Office\"]\n",
    "print(Office)\n",
    "ExPage=int(ExRow[\"Page\"])\n",
    "ExDept=ExRow[\"Dept\"]\n",
    "ExOffice=ExRow[\"Office\"]\n",
    "\n",
    "\n",
    "###Insert Starting page information to motherframe###\n",
    "dta[Year][Dept][Office]={}\n",
    "dta[Year][Dept][Office][\"Starting_Page\"]=Page\n",
    "print(dta)\n",
    "\n",
    "###Collect Location information###\n",
    "##Read image for first page##\n",
    "img=cv2.imread(\"Page\"+\"{:03d}\".format(Page)+\"\\\\\"+\"Page\"+\"{:03d}\".format(Page)+\".jpg\")\n",
    "#Convert to json via CLOVA\n",
    "Json=Clova(Year,Page)\n",
    "\n",
    "#Find X coordinate of 'Office'.\n",
    "XCoord_Unit=Detect_Office(Json,Office)\n",
    "#Add to motherframe\n",
    "dta[str(Year)][Dept][Office][\"Office_X1\"]=XCoord_Unit\n",
    "dta[str(Year)][ExDept][ExOffice][\"Ending_Page\"]=Page\n",
    "dta[str(Year)][ExDept][ExOffice][\"Office_X2\"]=XCoord_Unit+10\n",
    "dta[str(Year)][ExDept][ExOffice][\"Page_Range\"]=list(range(ExPage,Page+1))\n",
    "dta"
   ]
  },
  {
   "cell_type": "code",
   "execution_count": 19,
   "metadata": {},
   "outputs": [
    {
     "data": {
      "text/plain": [
       "Office    監察課\n",
       "Dept      監査局\n",
       "Year        9\n",
       "Page        5\n",
       "Name: 4, dtype: object"
      ]
     },
     "execution_count": 19,
     "metadata": {},
     "output_type": "execute_result"
    }
   ],
   "source": [
    "#Test code| Version 2#\n",
    "#Show Working office#\n",
    "n=4\n",
    "\n",
    "#Extract key info of office\n",
    "Row  = df.iloc[n]\n",
    "ExRow= df.iloc[n-1]\n",
    "Row"
   ]
  },
  {
   "cell_type": "code",
   "execution_count": 20,
   "metadata": {},
   "outputs": [
    {
     "name": "stdout",
     "output_type": "stream",
     "text": [
      "監察課\n",
      "{'1934': {'Admin': {'文書課': {'Starting_Page': 3, 'Office_X1': 292, 'Ending_Page': 5, 'Office_X2': 439, 'Page_Range': [3, 4, 5]}, '職員課': {'Starting_Page': 2, 'Ending_Page': 3, 'Office_X2': 302, 'Page_Range': [2, 3]}, '庶務課': {'Ending_Page': 5, 'Office_X2': 160, 'Page_Range': [5]}, '監察課': {'Starting_Page': 5, 'Office_X1': 150}}, '中央卸売市場': {}, '保健局': {}, '土木局': {}, '教育局': {}, '水道局': {}, '港湾部（S8.11.1）': {}, '産業局': {}, '監査局': {'庶務課': {'Starting_Page': 5, 'Office_X1': 429}, '監察課': {'Starting_Page': 5}}, '社会局': {}, '財務局': {}, '電気局(S8.11.6)': {}, '電気研究所（S8.11.18）': {}}}\n"
     ]
    },
    {
     "data": {
      "text/plain": [
       "{'1934': {'Admin': {'文書課': {'Starting_Page': 3,\n",
       "    'Office_X1': 292,\n",
       "    'Ending_Page': 5,\n",
       "    'Office_X2': 439,\n",
       "    'Page_Range': [3, 4, 5]},\n",
       "   '職員課': {'Starting_Page': 2,\n",
       "    'Ending_Page': 3,\n",
       "    'Office_X2': 302,\n",
       "    'Page_Range': [2, 3]},\n",
       "   '庶務課': {'Ending_Page': 5, 'Office_X2': 160, 'Page_Range': [5]},\n",
       "   '監察課': {'Starting_Page': 5, 'Office_X1': 150}},\n",
       "  '中央卸売市場': {},\n",
       "  '保健局': {},\n",
       "  '土木局': {},\n",
       "  '教育局': {},\n",
       "  '水道局': {},\n",
       "  '港湾部（S8.11.1）': {},\n",
       "  '産業局': {},\n",
       "  '監査局': {'庶務課': {'Starting_Page': 5, 'Office_X1': 429},\n",
       "   '監察課': {'Starting_Page': 5, 'Office_X1': 150}},\n",
       "  '社会局': {},\n",
       "  '財務局': {},\n",
       "  '電気局(S8.11.6)': {},\n",
       "  '電気研究所（S8.11.18）': {}}}"
      ]
     },
     "execution_count": 20,
     "metadata": {},
     "output_type": "execute_result"
    }
   ],
   "source": [
    "Page=int(Row[\"Page\"])\n",
    "Office=Row[\"Office\"]\n",
    "print(Office)\n",
    "ExPage=int(ExRow[\"Page\"])\n",
    "ExOffice=ExRow[\"Office\"]\n",
    "\n",
    "\n",
    "###Insert Starting page information to motherframe###\n",
    "dta[Year][Dept][Office]={}\n",
    "dta[Year][Dept][Office][\"Starting_Page\"]=Page\n",
    "print(dta)\n",
    "\n",
    "###Collect Location information###\n",
    "##Read image for first page##\n",
    "img=cv2.imread(\"Page\"+\"{:03d}\".format(Page)+\"\\\\\"+\"Page\"+\"{:03d}\".format(Page)+\".jpg\")\n",
    "#Convert to json via CLOVA\n",
    "Json=Clova(Year,Page)\n",
    "\n",
    "#Find X coordinate of 'Office'.\n",
    "XCoord_Unit=Detect_Office(Json,Office)\n",
    "#Add to motherframe\n",
    "dta[str(Year)][Dept][Office][\"Office_X1\"]=XCoord_Unit\n",
    "dta[str(Year)][ExDept][ExOffice][\"Ending_Page\"]=Page\n",
    "dta[str(Year)][ExDept][ExOffice][\"Office_X2\"]=XCoord_Unit+10\n",
    "dta[str(Year)][ExDept][ExOffice][\"Page_Range\"]=list(range(ExPage,Page+1))\n",
    "dta"
   ]
  },
  {
   "cell_type": "code",
   "execution_count": 132,
   "metadata": {},
   "outputs": [
    {
     "name": "stdout",
     "output_type": "stream",
     "text": [
      "文書課success\n",
      "庶務課success\n",
      "監察課success\n",
      "区政課success\n",
      "統計課success\n",
      "都市計画課failed\n",
      "主計課success\n",
      "公債課（S9.2.8）success\n",
      "収納課success\n",
      "経理課success\n",
      "地理課success\n",
      "会計課success\n",
      "庶務課success\n",
      "商工課success\n",
      "農魚課success\n",
      "権度課success\n",
      "庶務課success\n",
      "学務課success\n",
      "社会教育課failed\n",
      "体育課success\n",
      "視学課success\n",
      "庶務課success\n",
      "保護課success\n",
      "福利課success\n",
      "職業課success\n",
      "庶務課success\n",
      "衛生課success\n",
      "清掃課success\n",
      "公園課success\n",
      "庶務課success\n",
      "会計課success\n",
      "業務課failed\n",
      "給水課failed\n",
      "拡張課failed\n",
      "庶務課success\n",
      "道路管理課success\n",
      "道路建設課failed\n",
      "河川課failed\n",
      "下水課success\n",
      "建築課success\n",
      "局長室success\n",
      "庶務課success\n",
      "労働課success\n",
      "会計課success\n",
      "電車課success\n",
      "自動車課success\n",
      "電灯課success\n",
      "電力課success\n",
      "工務課success\n",
      "病院success\n",
      "庶務課success\n",
      "技術課success\n",
      "港務所success\n",
      "庶務課success\n",
      "企画課success\n"
     ]
    },
    {
     "ename": "FileNotFoundError",
     "evalue": "[Errno 2] No such file or directory: 'C:\\\\Users\\\\Keitaro Ninomiya\\\\Box\\\\Research Notes (keitaro2@illinois.edu)\\\\Tokyo_Jobs\\\\Raw_Data\\\\Splited\\\\1934\\\\Page140\\\\Page140.jpg'",
     "output_type": "error",
     "traceback": [
      "\u001b[1;31m---------------------------------------------------------------------------\u001b[0m",
      "\u001b[1;31mFileNotFoundError\u001b[0m                         Traceback (most recent call last)",
      "\u001b[1;32mC:\\Temp\\ipykernel_13548\\2426522978.py\u001b[0m in \u001b[0;36m<module>\u001b[1;34m\u001b[0m\n\u001b[0;32m     23\u001b[0m     \u001b[0mimg\u001b[0m\u001b[1;33m=\u001b[0m\u001b[0mcv2\u001b[0m\u001b[1;33m.\u001b[0m\u001b[0mimread\u001b[0m\u001b[1;33m(\u001b[0m\u001b[1;34m\"Page\"\u001b[0m\u001b[1;33m+\u001b[0m\u001b[1;34m\"{:03d}\"\u001b[0m\u001b[1;33m.\u001b[0m\u001b[0mformat\u001b[0m\u001b[1;33m(\u001b[0m\u001b[0mPage\u001b[0m\u001b[1;33m)\u001b[0m\u001b[1;33m+\u001b[0m\u001b[1;34m\"\\\\\"\u001b[0m\u001b[1;33m+\u001b[0m\u001b[1;34m\"Page\"\u001b[0m\u001b[1;33m+\u001b[0m\u001b[1;34m\"{:03d}\"\u001b[0m\u001b[1;33m.\u001b[0m\u001b[0mformat\u001b[0m\u001b[1;33m(\u001b[0m\u001b[0mPage\u001b[0m\u001b[1;33m)\u001b[0m\u001b[1;33m+\u001b[0m\u001b[1;34m\".jpg\"\u001b[0m\u001b[1;33m)\u001b[0m\u001b[1;33m\u001b[0m\u001b[1;33m\u001b[0m\u001b[0m\n\u001b[0;32m     24\u001b[0m     \u001b[1;31m#Convert to json via CLOVA\u001b[0m\u001b[1;33m\u001b[0m\u001b[1;33m\u001b[0m\u001b[0m\n\u001b[1;32m---> 25\u001b[1;33m     \u001b[0mJson\u001b[0m\u001b[1;33m=\u001b[0m\u001b[0mClova\u001b[0m\u001b[1;33m(\u001b[0m\u001b[0mYear\u001b[0m\u001b[1;33m,\u001b[0m\u001b[0mPage\u001b[0m\u001b[1;33m)\u001b[0m\u001b[1;33m\u001b[0m\u001b[1;33m\u001b[0m\u001b[0m\n\u001b[0m\u001b[0;32m     26\u001b[0m \u001b[1;33m\u001b[0m\u001b[0m\n\u001b[0;32m     27\u001b[0m     \u001b[1;31m#Find X coordinate of 'Office'.\u001b[0m\u001b[1;33m\u001b[0m\u001b[1;33m\u001b[0m\u001b[0m\n",
      "\u001b[1;32mC:\\Temp\\ipykernel_13548\\1663729398.py\u001b[0m in \u001b[0;36mClova\u001b[1;34m(Year, Page)\u001b[0m\n\u001b[0;32m     46\u001b[0m \u001b[1;32mdef\u001b[0m \u001b[0mClova\u001b[0m\u001b[1;33m(\u001b[0m\u001b[0mYear\u001b[0m\u001b[1;33m,\u001b[0m\u001b[0mPage\u001b[0m\u001b[1;33m)\u001b[0m\u001b[1;33m:\u001b[0m\u001b[1;33m\u001b[0m\u001b[1;33m\u001b[0m\u001b[0m\n\u001b[0;32m     47\u001b[0m     \u001b[0mpath\u001b[0m\u001b[1;33m=\u001b[0m\u001b[1;34m\"C:\\\\Users\\\\Keitaro Ninomiya\\\\Box\\\\Research Notes (keitaro2@illinois.edu)\\\\Tokyo_Jobs\\\\Raw_Data\\\\Splited\\\\\"\u001b[0m\u001b[1;33m+\u001b[0m\u001b[0mYear\u001b[0m\u001b[1;33m+\u001b[0m\u001b[1;34m\"\\\\\"\u001b[0m\u001b[1;33m\u001b[0m\u001b[1;33m\u001b[0m\u001b[0m\n\u001b[1;32m---> 48\u001b[1;33m     \u001b[1;32mwith\u001b[0m \u001b[0mopen\u001b[0m\u001b[1;33m(\u001b[0m\u001b[0mpath\u001b[0m\u001b[1;33m+\u001b[0m\u001b[1;34m\"Page\"\u001b[0m\u001b[1;33m+\u001b[0m\u001b[1;34m\"{:03d}\"\u001b[0m\u001b[1;33m.\u001b[0m\u001b[0mformat\u001b[0m\u001b[1;33m(\u001b[0m\u001b[0mPage\u001b[0m\u001b[1;33m)\u001b[0m\u001b[1;33m+\u001b[0m\u001b[1;34m\"\\\\\"\u001b[0m\u001b[1;33m+\u001b[0m\u001b[1;34m\"Page\"\u001b[0m\u001b[1;33m+\u001b[0m\u001b[1;34m\"{:03d}\"\u001b[0m\u001b[1;33m.\u001b[0m\u001b[0mformat\u001b[0m\u001b[1;33m(\u001b[0m\u001b[0mPage\u001b[0m\u001b[1;33m)\u001b[0m\u001b[1;33m+\u001b[0m\u001b[1;34m\".jpg\"\u001b[0m\u001b[1;33m,\u001b[0m\u001b[1;34m'rb'\u001b[0m\u001b[1;33m)\u001b[0m \u001b[1;32mas\u001b[0m \u001b[0mf\u001b[0m\u001b[1;33m:\u001b[0m\u001b[1;33m\u001b[0m\u001b[1;33m\u001b[0m\u001b[0m\n\u001b[0m\u001b[0;32m     49\u001b[0m          \u001b[0mfile_data\u001b[0m \u001b[1;33m=\u001b[0m \u001b[0mf\u001b[0m\u001b[1;33m.\u001b[0m\u001b[0mread\u001b[0m\u001b[1;33m(\u001b[0m\u001b[1;33m)\u001b[0m\u001b[1;33m\u001b[0m\u001b[1;33m\u001b[0m\u001b[0m\n\u001b[0;32m     50\u001b[0m \u001b[1;33m\u001b[0m\u001b[0m\n",
      "\u001b[1;31mFileNotFoundError\u001b[0m: [Errno 2] No such file or directory: 'C:\\\\Users\\\\Keitaro Ninomiya\\\\Box\\\\Research Notes (keitaro2@illinois.edu)\\\\Tokyo_Jobs\\\\Raw_Data\\\\Splited\\\\1934\\\\Page140\\\\Page140.jpg'"
     ]
    }
   ],
   "source": [
    "#Test code| Version 2#\n",
    "#Show Working office#\n",
    "FailedList=[]\n",
    "for n in range(2,len(df)):\n",
    "    #Extract key info of office\n",
    "    Row  = df.iloc[n]\n",
    "    ExRow= df.iloc[n-1]\n",
    "\n",
    "    Page=int(Row[\"Page\"])\n",
    "    Office=Row[\"Office\"]\n",
    "    Dept=Row['Dept']\n",
    "\n",
    "    ExPage=int(ExRow[\"Page\"])\n",
    "    ExOffice=ExRow[\"Office\"]\n",
    "    ExDept=ExRow['Dept']\n",
    "\n",
    "    ###Insert Starting page information to motherframe###\n",
    "    dta[Year][Dept][Office]={}\n",
    "    dta[Year][Dept][Office][\"Starting_Page\"]=Page\n",
    "\n",
    "    ###Collect Location information###\n",
    "    ##Read image for first page##\n",
    "    img=cv2.imread(\"Page\"+\"{:03d}\".format(Page)+\"\\\\\"+\"Page\"+\"{:03d}\".format(Page)+\".jpg\")\n",
    "    #Convert to json via CLOVA\n",
    "    Json=Clova(Year,Page)\n",
    "\n",
    "    #Find X coordinate of 'Office'.\n",
    "    XCoord_Unit=Detect_Office(Json,Office)\n",
    "    if XCoord_Unit==None:\n",
    "        #Add to motherframe\n",
    "        dta[str(Year)][Dept][Office][\"Office_X1\"]='NA'\n",
    "        dta[str(Year)][ExDept][ExOffice][\"Ending_Page\"]='NA'\n",
    "        dta[str(Year)][ExDept][ExOffice][\"Office_X2\"]='NA'\n",
    "        dta[str(Year)][ExDept][ExOffice][\"Page_Range\"]='NA'\n",
    "        print(Office+ 'failed')\n",
    "        FailedList.append(list((Dept,Office)))\n",
    "        continue\n",
    "    else:\n",
    "        dta[str(Year)][Dept][Office][\"Office_X1\"]=XCoord_Unit\n",
    "        dta[str(Year)][ExDept][ExOffice][\"Ending_Page\"]=Page\n",
    "        dta[str(Year)][ExDept][ExOffice][\"Office_X2\"]=XCoord_Unit+10\n",
    "        dta[str(Year)][ExDept][ExOffice][\"Page_Range\"]=list(range(ExPage,Page+1))       \n",
    "        HH=img.shape[:2][0]\n",
    "        print(Office+ 'success')\n",
    "        cv2.line(img, (XCoord_Unit,0), (XCoord_Unit,HH), (255,0,0), 2)\n",
    "        cv2.imshow('pic',img)\n",
    "        cv2.waitKey(0)\n",
    "\n"
   ]
  },
  {
   "cell_type": "code",
   "execution_count": 133,
   "metadata": {},
   "outputs": [
    {
     "name": "stdout",
     "output_type": "stream",
     "text": [
      "Fantastic!! Success Rate is 0.8833333333333333\n"
     ]
    }
   ],
   "source": [
    "if len(FailedList)/len(df)<0.2:\n",
    "    print('Fantastic!! Success Rate is '+str(1-(len(FailedList)/len(df))))\n",
    "else:\n",
    "    print('残念...Success Rate is '+str(1-(len(FailedList)/len(df))))"
   ]
  },
  {
   "cell_type": "code",
   "execution_count": 128,
   "metadata": {},
   "outputs": [
    {
     "name": "stdout",
     "output_type": "stream",
     "text": [
      "水道局 業務課\n",
      "水道局 給水課\n",
      "水道局 拡張課\n",
      "土木局 道路建設課\n",
      "土木局 河川課\n"
     ]
    }
   ],
   "source": [
    "#Fixing Failed Offices\n",
    "#Step1: Check for simple page assignment error\n",
    "path=\"C:\\\\Users\\\\Keitaro Ninomiya\\\\Box\\\\Research Notes (keitaro2@illinois.edu)\\\\Tokyo_Jobs\\\\Raw_Data\\\\Splited\\\\\"+Year+\"\\\\\"\n",
    "for n in range(2,len(FailedList)):\n",
    "    Dept=FailedList[n][0]\n",
    "    Office=FailedList[n][1]\n",
    "    print(Dept,Office)\n",
    "    Page=df['Page'][(df['Office']==Office) & (df['Dept']==Dept)].tolist()[0]\n",
    "    image=cv2.imread(path+\"Page\"+\"{:03d}\".format(Page)+\"\\\\\"+\"Page\"+\"{:03d}\".format(Page)+\".jpg\")\n",
    "    cv2.imshow('Image',image)\n",
    "    cv2.waitKey(0)"
   ]
  },
  {
   "cell_type": "code",
   "execution_count": 121,
   "metadata": {},
   "outputs": [
    {
     "name": "stdout",
     "output_type": "stream",
     "text": [
      "水道局 会計課\n"
     ]
    }
   ],
   "source": [
    "n=10\n",
    "Dept=FailedList[n][0]\n",
    "Office=FailedList[n][1]\n",
    "print(Dept,Office)\n",
    "Page=df['Page'][(df['Office']==Office) & (df['Dept']==Dept)].tolist()[0]\n",
    "Json=Clova(Year,Page)\n"
   ]
  },
  {
   "cell_type": "code",
   "execution_count": 123,
   "metadata": {},
   "outputs": [
    {
     "data": {
      "text/plain": [
       "['課長',\n",
       " '百事',\n",
       " '技師',\n",
       " '業',\n",
       " '六九六',\n",
       " '主事',\n",
       " '孤上',\n",
       " '1',\n",
       " '事務員',\n",
       " '課長',\n",
       " '喝託員',\n",
       " '水道水源地氷川村日原氣象觀測事務喝託',\n",
       " '水神社奉祀福託',\n",
       " '水道水源地醫務署一年一一〇',\n",
       " '水道水源地ニ於ケル崩壞地ノ砂防施設關スル調査福託',\n",
       " '月 二 〇',\n",
       " '水道ニスス調調喝記',\n",
       " '水道用地林木ニ關スル調査事務喝託',\n",
       " '10',\n",
       " '上',\n",
       " '1',\n",
       " '下上',\n",
       " '務',\n",
       " '計',\n",
       " '課',\n",
       " '正人造 蔵',\n",
       " '合計利共加',\n",
       " '航支援器官',\n",
       " '課',\n",
       " '神田',\n",
       " '愨',\n",
       " '井',\n",
       " '知太',\n",
       " '久三',\n",
       " '宗太',\n",
       " '定',\n",
       " '郎一郎郎吉',\n",
       " '龜戸營業所長發',\n",
       " '充容充希',\n",
       " '五金、明天、五五台',\n",
       " '副牧入役西',\n",
       " 'N',\n",
       " '上',\n",
       " 'ト',\n",
       " 'ト',\n",
       " '下',\n",
       " '正四、勤售等',\n",
       " '仲田聰治郎',\n",
       " '正五西',\n",
       " '熊',\n",
       " '七七八六人',\n",
       " '(税抜カ五九)',\n",
       " '世田谷',\n",
       " '、、、三八子',\n",
       " '六',\n",
       " '田千佐人',\n",
       " '磯 西 西 松 松',\n",
       " '木',\n",
       " '大條',\n",
       " '川武雄',\n",
       " '瀨戸',\n",
       " '深',\n",
       " '易一',\n",
       " '材料鐵板燒',\n",
       " '信',\n",
       " '竹北',\n",
       " '義俊靖龜',\n",
       " '雄一豪助',\n",
       " '吉一八郎',\n",
       " '萬 親',\n",
       " '覺']"
      ]
     },
     "execution_count": 123,
     "metadata": {},
     "output_type": "execute_result"
    }
   ],
   "source": [
    "[d['inferText'] for d in Json['fields']]"
   ]
  },
  {
   "cell_type": "code",
   "execution_count": 33,
   "metadata": {},
   "outputs": [],
   "source": [
    "json_object = json.dumps(dta, indent=4,\n",
    "                        cls=NpEncoder)\n",
    "save_path='C:\\\\Users\\\\Keitaro Ninomiya\\\\Box\\\\Research Notes (keitaro2@illinois.edu)\\\\Tokyo_Jobs\\\\Processed_Data\\\\'\n",
    "with open(save_path+\"DataFrame.json\", \"w\") as outfile:\n",
    "    outfile.write(json_object)"
   ]
  }
 ],
 "metadata": {
  "kernelspec": {
   "display_name": "Python 3",
   "language": "python",
   "name": "python3"
  },
  "language_info": {
   "codemirror_mode": {
    "name": "ipython",
    "version": 3
   },
   "file_extension": ".py",
   "mimetype": "text/x-python",
   "name": "python",
   "nbconvert_exporter": "python",
   "pygments_lexer": "ipython3",
   "version": "3.7.4"
  }
 },
 "nbformat": 4,
 "nbformat_minor": 5
}
