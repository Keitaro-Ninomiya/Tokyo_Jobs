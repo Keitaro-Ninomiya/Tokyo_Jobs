{
 "cells": [
  {
   "cell_type": "code",
   "execution_count": 1,
   "id": "f970bad1-1bd6-43fb-b166-66a3be4f4ae7",
   "metadata": {},
   "outputs": [],
   "source": [
    "import json\n",
    "import os\n",
    "import pandas as pd\n",
    "import numpy as np\n",
    "import cv2\n",
    "\n",
    "file_path='C:\\\\Users\\\\Keitaro Ninomiya\\\\Box\\\\Research Notes (keitaro2@illinois.edu)\\\\Tokyo_Jobs\\\\Processed_Data\\\\DataFrame.json'\n",
    "with open(file_path, encoding=\"utf-8\") as f:\n",
    "    dta = json.loads(f.read())"
   ]
  },
  {
   "cell_type": "code",
   "execution_count": 2,
   "id": "b9085ffa-5501-4b51-831f-2093a95e537d",
   "metadata": {},
   "outputs": [],
   "source": [
    "Year='1934'\n",
    "Showa='9'\n",
    "\n",
    "df = pd.read_csv(r'C:/Users/Keitaro Ninomiya/Box/Research Notes (keitaro2@illinois.edu)/Tokyo_Jobs/Processed_Data/Index/S'+Showa+'.csv')\n",
    "df=df.drop(df.columns[0], axis=1)"
   ]
  },
  {
   "cell_type": "code",
   "execution_count": 3,
   "id": "657ebe44-f2c9-4183-9329-302cf75e00ea",
   "metadata": {},
   "outputs": [
    {
     "name": "stdout",
     "output_type": "stream",
     "text": [
      "['Manager', 'Leader', 'Admin', 'Outsource']\n"
     ]
    }
   ],
   "source": [
    "n=2\n",
    "Row  = df.iloc[n]\n",
    "Dept=Row['Dept']\n",
    "Office=Row['Office']\n",
    "Info=dta[str(Year)][Dept][Office]\n",
    "PageList=Info['Page_Range']\n",
    "PosiList=list(Info['Position'].keys())\n",
    "print(PosiList)"
   ]
  },
  {
   "cell_type": "code",
   "execution_count": 15,
   "id": "8297d30a-d042-4add-b27e-a1d015a3c9d3",
   "metadata": {},
   "outputs": [
    {
     "data": {
      "text/plain": [
       "-1"
      ]
     },
     "execution_count": 15,
     "metadata": {},
     "output_type": "execute_result"
    }
   ],
   "source": [
    "save_path='C://Users//Keitaro Ninomiya//Box//Research Notes (keitaro2@illinois.edu)//Tokyo_Jobs//Raw_Data//Office_Level//1934//Admin//文書課'\n",
    "Count=1\n",
    "\n",
    "\n",
    "cv2.imshow(\"Start\",img)\n",
    "cv2.waitKey(0)"
   ]
  },
  {
   "cell_type": "code",
   "execution_count": 30,
   "id": "0895c67a-ab0c-4293-91ff-34fdeb2ebefe",
   "metadata": {},
   "outputs": [
    {
     "data": {
      "text/plain": [
       "{'Manager': {'XLocation': 261,\n",
       "  'Page': 3,\n",
       "  'EndLocation': 230.0,\n",
       "  'EndPage': 3.0},\n",
       " 'Leader': {'XLocation': 230, 'Page': 3, 'EndLocation': 469.0, 'EndPage': 4.0},\n",
       " 'Admin': {'XLocation': 469, 'Page': 4, 'EndLocation': 302.0, 'EndPage': 4.0},\n",
       " 'Outsource': {'XLocation': 302,\n",
       "  'Page': 4,\n",
       "  'EndLocation': 439.0,\n",
       "  'EndPage': 5.0}}"
      ]
     },
     "execution_count": 30,
     "metadata": {},
     "output_type": "execute_result"
    }
   ],
   "source": [
    "dta[Year][Dept][Office]['Position']"
   ]
  },
  {
   "cell_type": "code",
   "execution_count": 46,
   "id": "77c0f7d8-a739-45e1-a0d1-184ccd912d8c",
   "metadata": {},
   "outputs": [
    {
     "name": "stdout",
     "output_type": "stream",
     "text": [
      "Manager\n",
      "One Page\n",
      "Leader\n",
      "Multiple Page\n",
      "Admin\n",
      "One Page\n",
      "Outsource\n",
      "Multiple Page\n"
     ]
    }
   ],
   "source": [
    "save_path='C:\\\\Users\\\\Keitaro Ninomiya\\\\Box\\\\Research Notes (keitaro2@illinois.edu)\\\\Tokyo_Jobs\\\\Raw_Data\\\\Office_Level\\\\'+str(Year)+'\\\\'+Dept+'\\\\'+Office+'\\\\'\n",
    "os.chdir(save_path)\n",
    "Count=1\n",
    "\n",
    "for Position in PosiList:\n",
    "    print(Position)\n",
    "    StrPage=int(dta[Year][Dept][Office]['Position'][Position]['Page'])\n",
    "    StrCord=int(dta[Year][Dept][Office]['Position'][Position]['XLocation'])\n",
    "    EndPage=int(dta[Year][Dept][Office]['Position'][Position]['EndPage'])\n",
    "    EndCord=int(dta[Year][Dept][Office]['Position'][Position]['EndLocation'])\n",
    "    print(\"Start Page is\"+str(StrPage))\n",
    "    print(\"End Page is\"+str(EndPage))\n",
    "    \n",
    "    if StrPage==EndPage:\n",
    "        print(\"One Page\")\n",
    "        stream = open(save_path+\"//Image\"+str(Count)+\".png\", \"rb\")\n",
    "        bytes = bytearray(stream.read())\n",
    "        numpyarray = np.asarray(bytes, dtype=np.uint8)\n",
    "        img = cv2.imdecode(numpyarray, cv2.IMREAD_UNCHANGED)\n",
    "\n",
    "        HH, WW = img.shape[:2]\n",
    "        img=img[0:HH,EndCord:StrCord]\n",
    "        cv2.imshow(\"Start\",img)\n",
    "        cv2.waitKey(0)\n",
    "        cv2.imwrite(Position+'\\\\Image'+str(1)+'.png', img)\n",
    "        \n",
    "    else:\n",
    "        for Page in range(StrPage,EndPage):\n",
    "            print(\"Multiple Page\")\n",
    "            if Page==StrPage:\n",
    "                SubCount=1\n",
    "                stream = open(save_path+\"//Image\"+str(Count)+\".png\", \"rb\")\n",
    "                bytes = bytearray(stream.read())\n",
    "                numpyarray = np.asarray(bytes, dtype=np.uint8)\n",
    "                img = cv2.imdecode(numpyarray, cv2.IMREAD_UNCHANGED)\n",
    "                HH, WW = img.shape[:2]\n",
    "\n",
    "                img=img[0:HH,0:StrCord]\n",
    "                cv2.imshow(\"Start\",img)\n",
    "                cv2.waitKey(0)\n",
    "                cv2.imwrite(Position+'\\\\Image'+str(SubCount)+'.png', img)\n",
    "                Count=Count+1\n",
    "                SubCount=SubCount+1\n",
    "                \n",
    "            if (Page>StrPage) and (Page<EndPage):\n",
    "                stream = open(save_path+\"//Image\"+str(Count)+\".png\", \"rb\")\n",
    "                bytes = bytearray(stream.read())\n",
    "                numpyarray = np.asarray(bytes, dtype=np.uint8)\n",
    "                img = cv2.imdecode(numpyarray, cv2.IMREAD_UNCHANGED)\n",
    "                \n",
    "                HH, WW = img.shape[:2]\n",
    "                img=img[0:HH,0:WW]\n",
    "                cv2.imshow(\"Middle\",img)\n",
    "                cv2.waitKey(0)\n",
    "                cv2.imwrite(Position+'\\\\Image'+str(SubCount)+'.png', img)\n",
    "                SubCount=SubCount+1\n",
    "                \n",
    "            if (Page==EndPage):\n",
    "                stream = open(save_path+\"//Image\"+str(Count)+\".png\", \"rb\")\n",
    "                bytes = bytearray(stream.read())\n",
    "                numpyarray = np.asarray(bytes, dtype=np.uint8)\n",
    "                img = cv2.imdecode(numpyarray, cv2.IMREAD_UNCHANGED)\n",
    "\n",
    "                HH, WW = img.shape[:2]\n",
    "                img=img[0:HH,0:WW]\n",
    "                cv2.imshow(\"End\",img)\n",
    "                cv2.waitKey(0)\n",
    "                cv2.imwrite(Position+'\\\\Image'+str(SubCount)+'.png', img)"
   ]
  },
  {
   "cell_type": "code",
   "execution_count": 44,
   "id": "4a0d46bd-8739-44a2-975a-2b5983fa51f9",
   "metadata": {},
   "outputs": [
    {
     "name": "stdout",
     "output_type": "stream",
     "text": [
      "439 100\n"
     ]
    }
   ],
   "source": [
    "print(EndCord,WW)"
   ]
  }
 ],
 "metadata": {
  "kernelspec": {
   "display_name": "Python 3 (ipykernel)",
   "language": "python",
   "name": "python3"
  },
  "language_info": {
   "codemirror_mode": {
    "name": "ipython",
    "version": 3
   },
   "file_extension": ".py",
   "mimetype": "text/x-python",
   "name": "python",
   "nbconvert_exporter": "python",
   "pygments_lexer": "ipython3",
   "version": "3.9.13"
  }
 },
 "nbformat": 4,
 "nbformat_minor": 5
}
